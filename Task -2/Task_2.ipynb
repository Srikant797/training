{
  "nbformat": 4,
  "nbformat_minor": 0,
  "metadata": {
    "colab": {
      "name": "Task - 2.ipynb",
      "provenance": []
    },
    "kernelspec": {
      "name": "python3",
      "display_name": "Python 3"
    },
    "language_info": {
      "name": "python"
    }
  },
  "cells": [
    {
      "cell_type": "markdown",
      "metadata": {
        "id": "FGHO0WK96kI2"
      },
      "source": [
        "### **Reg No - GO_STP_11828**\n",
        "#### **Name - Srikant Kumar Maharana**"
      ]
    },
    {
      "cell_type": "markdown",
      "metadata": {
        "id": "UWgd1ZsG0vzx"
      },
      "source": [
        "# **Assignment 2**\n",
        "1.Is a list mutable?\n",
        "\n",
        "  Ans: Yes lists are mutable.\n",
        "\n"
      ]
    },
    {
      "cell_type": "markdown",
      "metadata": {
        "id": "gHoVumtB5RIS"
      },
      "source": [
        "2.Does a list need to be homogeneous?\n",
        "\n",
        "  Ans. Lists can be either homogeneous or heterogeneous."
      ]
    },
    {
      "cell_type": "markdown",
      "metadata": {
        "id": "5HSGIWsb5gva"
      },
      "source": [
        "3.What is the difference between a list and a tuple.\n",
        "\n",
        "Ans.The main difference between a list and a tuple is that lists are mutable while tuples are immutable. A list has a variable size while a tuple has a fixed size. \n"
      ]
    },
    {
      "cell_type": "markdown",
      "metadata": {
        "id": "ucA9B91n5uLs"
      },
      "source": [
        "4.How to find the number of elements in the list?\n",
        "\n",
        "Ans. The most straightforward way to get the number of elements in a list is to use the Python built-in function len(). \n"
      ]
    },
    {
      "cell_type": "code",
      "metadata": {
        "colab": {
          "base_uri": "https://localhost:8080/"
        },
        "id": "984JKCnp-xJ4",
        "outputId": "e063796c-6bd5-46c9-8dff-4c2473668384"
      },
      "source": [
        "itemsList = [\"1\", \"2\", \"3\", \"4\"]\n",
        "print(\"Total Number of numbers : %d\" % len(itemsList))"
      ],
      "execution_count": 1,
      "outputs": [
        {
          "output_type": "stream",
          "text": [
            "Total Number of numbers : 4\n"
          ],
          "name": "stdout"
        }
      ]
    },
    {
      "cell_type": "markdown",
      "metadata": {
        "id": "rY3K_OzR51MO"
      },
      "source": [
        "5.How to check whether the list is empty or not?\n",
        "\n",
        "Ans. Using the len() function on a given list we can check to find if it equals to 0."
      ]
    },
    {
      "cell_type": "code",
      "metadata": {
        "colab": {
          "base_uri": "https://localhost:8080/"
        },
        "id": "q81F9LV1_JCf",
        "outputId": "45368818-4cae-4e36-e96e-45646fe42738"
      },
      "source": [
        "my = [\"1\"]\n",
        "if len(my) == 0:\n",
        " print(\"The list is empty.\")\n",
        "else:\n",
        " print(\"The list is not empty.\")"
      ],
      "execution_count": 2,
      "outputs": [
        {
          "output_type": "stream",
          "text": [
            "The list is not empty.\n"
          ],
          "name": "stdout"
        }
      ]
    },
    {
      "cell_type": "markdown",
      "metadata": {
        "id": "KAtRP-_c6Db0"
      },
      "source": [
        "6.How to find the first and last element of the list?\n",
        "\n",
        "Ans. In any list the first element is assigned index value 0 and the last element can be considered as a value -1. So we apply these index values to the list directly and get the desired result."
      ]
    },
    {
      "cell_type": "code",
      "metadata": {
        "colab": {
          "base_uri": "https://localhost:8080/"
        },
        "id": "HHHpBLdM_SMq",
        "outputId": "7e2b52a6-b822-447f-fbc5-3602447ef7dc"
      },
      "source": [
        "num = [1, 2, 4, 3, 6, 9]\n",
        "first = num[0]\n",
        "last = num[len(num) - 1]\n",
        "print(\"The First Element is %d\" % first)\n",
        "print(\"The Last Element is %d\"  % last)"
      ],
      "execution_count": 5,
      "outputs": [
        {
          "output_type": "stream",
          "text": [
            "The First Element is 1\n",
            "The Last Element is 9\n"
          ],
          "name": "stdout"
        }
      ]
    },
    {
      "cell_type": "markdown",
      "metadata": {
        "id": "qqJonkWg6N-j"
      },
      "source": [
        "7.How to find the largest and lowest value in the list?\n",
        "\n",
        "Ans. The min () and max () functions in Python return the lowest and largest values in a list ."
      ]
    },
    {
      "cell_type": "code",
      "metadata": {
        "colab": {
          "base_uri": "https://localhost:8080/"
        },
        "id": "t6j3qBMW_9RJ",
        "outputId": "a7ffbfaa-22dd-45ba-84c1-232cd517c56c"
      },
      "source": [
        "num = [3, 9, 6, 39, 9, -1]\n",
        "largest = max(num)\n",
        "lowest = min(num)\n",
        "print(\"Largest : %d\\nLowest : %d\" % (largest, lowest))\n"
      ],
      "execution_count": 7,
      "outputs": [
        {
          "output_type": "stream",
          "text": [
            "Largest : 39\n",
            "Lowest : -1\n"
          ],
          "name": "stdout"
        }
      ]
    },
    {
      "cell_type": "markdown",
      "metadata": {
        "id": "f284vLmd6T_3"
      },
      "source": [
        "8.How to access elements of the list?\n",
        "\n",
        "Ans . To access elements of the list, we can use the square brackets for slicing along with the index or indices to obtain value available at that index. \n"
      ]
    },
    {
      "cell_type": "code",
      "metadata": {
        "colab": {
          "base_uri": "https://localhost:8080/"
        },
        "id": "jyr3L2zwAPmW",
        "outputId": "d66575eb-22f7-43ab-e667-4c0ff1dfb2b8"
      },
      "source": [
        "num = [13, 26, 93, 3, 24, 91, 14,0,29,54 ]\n",
        "firstFive = num[0:5]\n",
        "print(\"First Five Elements : %s\" % firstFive)\n"
      ],
      "execution_count": 9,
      "outputs": [
        {
          "output_type": "stream",
          "text": [
            "First Five Elements : [13, 26, 93, 3, 24]\n"
          ],
          "name": "stdout"
        }
      ]
    },
    {
      "cell_type": "markdown",
      "metadata": {
        "id": "wlUdaa0V6YcI"
      },
      "source": [
        "9.Remove elements in a list before a specific index .\n",
        "\n",
        "Ans. To remove an item at a specified index or position from a List, pop()\n",
        "method of List class with index provided as argument can be used.\n",
        "\n"
      ]
    },
    {
      "cell_type": "markdown",
      "metadata": {
        "id": "3t7kLxFl7hfH"
      },
      "source": [
        "10.Remove elements in a list between 2 indices\n",
        "\n",
        "Ans. To remove elements in a list between 2 indices can be done using del\n",
        "keyword.\n"
      ]
    },
    {
      "cell_type": "markdown",
      "metadata": {
        "id": "sUsO0kyv7q1Z"
      },
      "source": [
        "11.Return every 2nd element in a list between 2 indices"
      ]
    },
    {
      "cell_type": "markdown",
      "metadata": {
        "id": "Puc4zwRZ7vs9"
      },
      "source": [
        "12.Get the first element from each nested list in a list"
      ]
    },
    {
      "cell_type": "markdown",
      "metadata": {
        "id": "TONUz5Vd7y44"
      },
      "source": [
        "13.How to modify elements of the list?\n",
        "\n",
        "Ans. The Assignment \"=\" operator can be used to modify the elements of a list\n",
        "by mentioning the element to be modified using index.\n"
      ]
    },
    {
      "cell_type": "markdown",
      "metadata": {
        "id": "dnB6t6oD72K5"
      },
      "source": [
        "14.How to concatenate two lists? \n",
        "\n",
        "Ans. Two lists can be concatenated using the + operator."
      ]
    },
    {
      "cell_type": "code",
      "metadata": {
        "colab": {
          "base_uri": "https://localhost:8080/"
        },
        "id": "SKTXPSFtAr2T",
        "outputId": "6de3e620-237b-4c97-bad8-644da98febeb"
      },
      "source": [
        "list1 = [1, 2, 3, 4, 5]\n",
        "list2 = [6, 7, 8, 9, 10]\n",
        "concat = list1 + list2\n",
        "print(\"Concatenated List : %s\" % concat)"
      ],
      "execution_count": 10,
      "outputs": [
        {
          "output_type": "stream",
          "text": [
            "Concatenated List : [1, 2, 3, 4, 5, 6, 7, 8, 9, 10]\n"
          ],
          "name": "stdout"
        }
      ]
    },
    {
      "cell_type": "markdown",
      "metadata": {
        "id": "4zLOjrfn8LuQ"
      },
      "source": [
        "15.How to add two lists element-wise in python?"
      ]
    },
    {
      "cell_type": "markdown",
      "metadata": {
        "id": "9BvsQawd8QT5"
      },
      "source": [
        "16.Difference between del and clear?\n",
        "\n",
        "Ans. clear is used to delete only the contents of a list whereas del deletes\n",
        "the list from the memory itself resulting in a error if we try to access that list later.\n"
      ]
    },
    {
      "cell_type": "markdown",
      "metadata": {
        "id": "g8h2mj2s8Vjx"
      },
      "source": [
        "17.Difference between remove and pop?\n",
        "\n",
        "Ans. Remove() deletes the matching element from the list whereas pop removes\n",
        "the element present at specified index. \n"
      ]
    },
    {
      "cell_type": "markdown",
      "metadata": {
        "id": "qY9jqtOD8kiN"
      },
      "source": [
        "18.Difference between append and extend?\n",
        "\n",
        "\n",
        "Ans. append () adds a single element to the end of the list whereas extend () can\n",
        "add multiple individual elements to the end of the list."
      ]
    },
    {
      "cell_type": "markdown",
      "metadata": {
        "id": "IhdDxub_8oNB"
      },
      "source": [
        "19.Difference between indexing and Slicing?\n",
        "\n",
        "Ans. “Indexing” means referring to an element of an iterable by its position within the iterable. “Slicing” means getting a subset of elements from an iterable based on their indices."
      ]
    },
    {
      "cell_type": "code",
      "metadata": {
        "colab": {
          "base_uri": "https://localhost:8080/"
        },
        "id": "-WD7DeIfA2Jy",
        "outputId": "a8285dc3-701e-4142-d9dc-a74ccb15aab3"
      },
      "source": [
        "num = [1, 2, 3, 4, 5] #indexing\n",
        "num[0]"
      ],
      "execution_count": 13,
      "outputs": [
        {
          "output_type": "execute_result",
          "data": {
            "text/plain": [
              "1"
            ]
          },
          "metadata": {
            "tags": []
          },
          "execution_count": 13
        }
      ]
    },
    {
      "cell_type": "code",
      "metadata": {
        "colab": {
          "base_uri": "https://localhost:8080/"
        },
        "id": "cW0YLKglBL6X",
        "outputId": "c422d70b-f2ac-49d2-f330-75ce0cdcbe88"
      },
      "source": [
        "num = [1, 2, 3, 4, 5] #slicing\n",
        "num[1:4]"
      ],
      "execution_count": 15,
      "outputs": [
        {
          "output_type": "execute_result",
          "data": {
            "text/plain": [
              "[2, 3, 4]"
            ]
          },
          "metadata": {
            "tags": []
          },
          "execution_count": 15
        }
      ]
    },
    {
      "cell_type": "markdown",
      "metadata": {
        "id": "OmEFibdh8s6D"
      },
      "source": [
        "20.Difference between sort and sorted?\n",
        "\n",
        "\n",
        "Ans. The primary difference between the list sort() function and the sorted() function is that the sort() function will modify the list it is called on. The sorted() function will create a new list containing a sorted version of the list it is given."
      ]
    },
    {
      "cell_type": "markdown",
      "metadata": {
        "id": "btAeN1aC8y4z"
      },
      "source": [
        "21.Difference between reverse and reversed?\n",
        "\n",
        "Ans. The reversed() function in Python takes a list as argument.\n",
        "The reversed() function returns the reversed list."
      ]
    },
    {
      "cell_type": "markdown",
      "metadata": {
        "id": "bYw42Lfo9CFX"
      },
      "source": [
        "22.Difference between copy and deepcopy?\n",
        " \n",
        "Ans. In Python, we use = operator to create a copy of an object.\n",
        "A deep copy creates a new object and recursively adds the copies of nested objects present in the original elements"
      ]
    },
    {
      "cell_type": "markdown",
      "metadata": {
        "id": "b2iOWhj09FKI"
      },
      "source": [
        "23.How to remove duplicate elements in the list? \n",
        "\n",
        "Ans. Duplicate items can be removed in the list by using set() function\n"
      ]
    },
    {
      "cell_type": "markdown",
      "metadata": {
        "id": "Zqvb370Q9X0p"
      },
      "source": [
        "24.How to find an index of an element in the python list? \n",
        "\n",
        "Ans. index() function is used to find an index of an element in the python list"
      ]
    },
    {
      "cell_type": "markdown",
      "metadata": {
        "id": "ZH6sKqjZ9IQ3"
      },
      "source": [
        "25.How to find the occurrences of an element in the python list?\n",
        "\n",
        "Ans. count() method helps to find the occurrences of an element."
      ]
    },
    {
      "cell_type": "code",
      "metadata": {
        "colab": {
          "base_uri": "https://localhost:8080/"
        },
        "id": "yQwhp_lFCLXU",
        "outputId": "d74602bc-d5f4-499a-d349-9761317bd10a"
      },
      "source": [
        "test = [1,1,2,0,2,3,3,20,1,1,-1]\n",
        "print(\"Original :\", test)\n",
        "print(\"No. of occurrences of 1 :\", test.count(1))"
      ],
      "execution_count": 16,
      "outputs": [
        {
          "output_type": "stream",
          "text": [
            "Original : [1, 1, 2, 0, 2, 3, 3, 20, 1, 1, -1]\n",
            "No. of occurrences of 1 : 4\n"
          ],
          "name": "stdout"
        }
      ]
    },
    {
      "cell_type": "markdown",
      "metadata": {
        "id": "9fEIrzKK9ozM"
      },
      "source": [
        "26.How to insert an item at a given position? \n",
        "\n",
        "Ans. insert() is an inbuilt function in Python that inserts a given element at a given index in a list. \n"
      ]
    },
    {
      "cell_type": "markdown",
      "metadata": {
        "id": "5gQU05w190Zk"
      },
      "source": [
        "27.How to check if an item is in the list?\n",
        "\n",
        "Ans.  To check if an item is present in the list or not, membership operators in\n",
        "and not in can be used.\n"
      ]
    },
    {
      "cell_type": "markdown",
      "metadata": {
        "id": "QrDcJB-m964P"
      },
      "source": [
        "28.How to flatten a list in python?\n",
        "\n",
        "Ans. To flatten a list in python, nested loops and 'for each' syntax can be used.\n"
      ]
    },
    {
      "cell_type": "markdown",
      "metadata": {
        "id": "RE7vOjeX-B1i"
      },
      "source": [
        "29.How to convert python list to other data structures like set, tuple,\n",
        "dictionary?\n",
        "\n",
        "Ans. Typecasting to tuple can be done by simply using tuple(list_name). \n"
      ]
    },
    {
      "cell_type": "markdown",
      "metadata": {
        "id": "o5XQTzjD-KgQ"
      },
      "source": [
        "30.How to apply a function to all items in the list? \n",
        "\n",
        "Ans. Using map() method we can apply a function to all the elements in the list. \n",
        "\n"
      ]
    },
    {
      "cell_type": "markdown",
      "metadata": {
        "id": "LCjSFpy--VKB"
      },
      "source": [
        "31.How to filter the elements based on a function in a python list?\n",
        "\n",
        "Ans.  built-in function called filter() allows to filter a list."
      ]
    },
    {
      "cell_type": "markdown",
      "metadata": {
        "id": "DMa1vq_x-dN_"
      },
      "source": [
        "32.How python lists are stored in memory? \n",
        "\n",
        "Ans.  Python lists store references (\"pointers\") to the objects."
      ]
    }
  ]
}