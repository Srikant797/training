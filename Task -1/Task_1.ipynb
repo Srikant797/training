{
  "nbformat": 4,
  "nbformat_minor": 0,
  "metadata": {
    "colab": {
      "name": "Task - 1.ipynb",
      "provenance": [],
      "collapsed_sections": []
    },
    "kernelspec": {
      "name": "python3",
      "display_name": "Python 3"
    },
    "language_info": {
      "name": "python"
    }
  },
  "cells": [
    {
      "cell_type": "markdown",
      "metadata": {
        "id": "Xk3QXG5bEpSc"
      },
      "source": [
        "### **GO_STP_11828**\n",
        "\n",
        "#### **Name - Srikant Kumar Maharana**"
      ]
    },
    {
      "cell_type": "markdown",
      "metadata": {
        "id": "7U9ZcoJ9E65S"
      },
      "source": [
        "## **Task - 1**"
      ]
    },
    {
      "cell_type": "markdown",
      "metadata": {
        "id": "g4iGNNsbeMAK"
      },
      "source": [
        "1. We are having 3 list like this\n",
        "\n",
        "  Colors = [“Yellow”,”Green”,”White”,”Black”]\n",
        "\n",
        "  Fruits=[“Apple”,”Papaya”,”Mango”,”Orange”]\n",
        "\n",
        "  Animals=[“Tiger”,”Lion”,”Deer”,”Zebra”]\n",
        "\n",
        "  i. Write a program that asks user to enter a Color/Fruit/Animal name and it should tell which category belongs to , like its is a fruit or color or Animal"
      ]
    },
    {
      "cell_type": "code",
      "metadata": {
        "colab": {
          "base_uri": "https://localhost:8080/"
        },
        "id": "7HzhBtxsdAtn",
        "outputId": "5f4a81c0-38ef-4304-af0a-cf2d27b40aec"
      },
      "source": [
        "Colors = [\"Yellow\",\"Green\",\"White\",\"Black\"]\n",
        "Fruits=[\"Apple\",\"Papaya\",\"Mango\",\"Orange\"]\n",
        "Animals=[\"Tiger\",\"Lion\",\"Deer\",\"Zebra\"]\n",
        "name=(input(\"enter the name \"))\n",
        "if name in Colors:\n",
        "  print(name,\"is a color\")\n",
        "elif name in Fruits:\n",
        "  print (name,\"is a fruit\")\n",
        "elif name in Animals:\n",
        "  print(name,\"is an animal\")\n",
        "else:\n",
        "  print (\"name not found\") "
      ],
      "execution_count": null,
      "outputs": [
        {
          "output_type": "stream",
          "text": [
            "enter the name Green\n",
            "Green is a color\n"
          ],
          "name": "stdout"
        }
      ]
    },
    {
      "cell_type": "markdown",
      "metadata": {
        "id": "JdRDydHjd3WE"
      },
      "source": [
        "ii. Write a program that asks user to enter two cities and it tells you if they both are in same country or not. For example if I enter yellow and Black, it will print \"Both are colors\" but if I enter yellow and Tiger it should print \"They don't belong to same category\""
      ]
    },
    {
      "cell_type": "code",
      "metadata": {
        "colab": {
          "base_uri": "https://localhost:8080/"
        },
        "id": "IaUMfCKKd22i",
        "outputId": "38f0b0f8-a726-463e-aded-61a8134b3e87"
      },
      "source": [
        "Colors = [\"Yellow\",\"Green\",\"White\",\"Black\"]\n",
        "Fruits=[\"Apple\",\"Papaya\",\"Mango\",\"Orange\"]\n",
        "Animals=[\"Tiger\",\"Lion\",\"Deer\",\"Zebra\"]\n",
        "name1=(input(\"enter the first name \"))\n",
        "name2=(input(\"enter the second name \"))\n",
        "if name1 in Colors:\n",
        "  if name2 in Colors:\n",
        "    print(name1,\"and\",name2 ,\"are colors\")\n",
        "  else:\n",
        "    print(\"they do not belong to same category.\")\n",
        "elif name1 in Fruits:\n",
        "  if name2 in Fruits:\n",
        "    print(name1,\"and\",name2 ,\"are fruits\")\n",
        "  else:\n",
        "    print(\"they do not belong to same category.\")\n",
        "elif name1 in Animals:\n",
        "  if name2 in Animals:\n",
        "    print(name1,\"and\",name2 ,\"are animals\")\n",
        "  else:\n",
        "    print(\"they do not belong to same category.\")\n",
        "else:\n",
        " print(\"Data not found\")"
      ],
      "execution_count": null,
      "outputs": [
        {
          "output_type": "stream",
          "text": [
            "enter the first name Yellow\n",
            "enter the second name Green\n",
            "Yellow and Green are colors\n"
          ],
          "name": "stdout"
        }
      ]
    },
    {
      "cell_type": "markdown",
      "metadata": {
        "id": "fZ0FzexCfZM7"
      },
      "source": [
        "2.  Write a python program that can tell you if your grade score good or not . Normal Score range is 40 to 60.\n",
        "\n",
        "  i. Ask user to enter his score.\n",
        "\n",
        "  ii. If it is below 40 to 60 range then print that score is low\n",
        "\n",
        "  iii. If it is above 60 then print that it is good otherwise print that it is normal"
      ]
    },
    {
      "cell_type": "code",
      "metadata": {
        "colab": {
          "base_uri": "https://localhost:8080/"
        },
        "id": "B0uDygWKfYqT",
        "outputId": "8fdfcfa6-277f-495e-eac7-d330827cc9e3"
      },
      "source": [
        "score=(int(input(\"enter your grade score \")))\n",
        "if score<40:\n",
        " print(\"score is low\")\n",
        "if score>60:\n",
        " print(\"score is good\")\n",
        "else:\n",
        " print(\"score is normal\")\n"
      ],
      "execution_count": null,
      "outputs": [
        {
          "output_type": "stream",
          "text": [
            "enter your grade score 65\n",
            "score is good\n"
          ],
          "name": "stdout"
        }
      ]
    },
    {
      "cell_type": "markdown",
      "metadata": {
        "id": "oA_wiJqUf5zC"
      },
      "source": [
        "3.  After appearing in exam 10 times you got this result,\n",
        "\n",
        "  result = [\"Pass\",\"Fail\",\"Fail\",\"Pass\",\"Fail\",\"Pass\",\"Pass\",\"Fail\",\"Fail\",\"Fail\"]\n",
        "\n",
        "  Using for loop figure out how many times you got Pass"
      ]
    },
    {
      "cell_type": "code",
      "metadata": {
        "colab": {
          "base_uri": "https://localhost:8080/"
        },
        "id": "N6XiMrRtf_sh",
        "outputId": "17189066-4e03-46d5-cb07-62fe99a5008c"
      },
      "source": [
        "result=[\"Pass\",\"Fail\",\"Fail\",\"Pass\",\"Fail\",\"Pass\",\"Pass\",\"Fail\",\"Fail\",\"Fail\"]\n",
        "sum=0\n",
        "for i in result:\n",
        " if i==\"Pass\":\n",
        "  sum=sum+1\n",
        "print(sum)"
      ],
      "execution_count": null,
      "outputs": [
        {
          "output_type": "stream",
          "text": [
            "4\n"
          ],
          "name": "stdout"
        }
      ]
    },
    {
      "cell_type": "markdown",
      "metadata": {
        "id": "2EpZFebBgPy4"
      },
      "source": [
        "4.  Write a program that prints following shape\n"
      ]
    },
    {
      "cell_type": "code",
      "metadata": {
        "colab": {
          "base_uri": "https://localhost:8080/"
        },
        "id": "6-7dHbWdgQDj",
        "outputId": "312fad5f-d01c-496e-9688-4790769788ff"
      },
      "source": [
        "for i in range(1,6,1):\n",
        " for j in range(i):\n",
        "    print(\"*\",end=\"\")\n",
        " print()\n",
        "for i in range(4,0,-1):\n",
        " for j in range(i):\n",
        "    print(\"*\",end=\"\")\n",
        " print()"
      ],
      "execution_count": null,
      "outputs": [
        {
          "output_type": "stream",
          "text": [
            "*\n",
            "**\n",
            "***\n",
            "****\n",
            "*****\n",
            "****\n",
            "***\n",
            "**\n",
            "*\n"
          ],
          "name": "stdout"
        }
      ]
    },
    {
      "cell_type": "markdown",
      "metadata": {
        "id": "MlLjXyAXhkwQ"
      },
      "source": [
        "5.   Lets say you are running a 50 km race. Write a program that,\n",
        "\n",
        "  Upon completing each 10 km asks you \"are you tired?\"\n",
        "\n",
        "\n",
        "*   If you reply \"yes\" then it should break and print \"you didn't finish the race\"\n",
        "*   If you reply \"no\" then it should continue and ask \"are you tired\" on every km\n",
        "*   If you finish all 50 km then it should print congratulations message\n",
        "\n",
        "\n",
        "\n",
        "\n",
        " \n"
      ]
    },
    {
      "cell_type": "code",
      "metadata": {
        "colab": {
          "base_uri": "https://localhost:8080/"
        },
        "id": "HklIs2LDh3kB",
        "outputId": "03692f37-0001-474d-dec9-de1336429ac3"
      },
      "source": [
        "for i in range(10,51,10):\n",
        " print(\"Distance covered by you is\",i,\"km \\n Are you tired?\")\n",
        " response=(input(\"Response \"))\n",
        " if response ==\"yes\":\n",
        "    print(\"you didn't finish the race\")\n",
        "    break\n",
        " elif i==50:\n",
        "    print(\"CONGRATULATIONS\")\n",
        " else:\n",
        "    print(50-i,\"km are remaining.\")\n",
        "    continue"
      ],
      "execution_count": null,
      "outputs": [
        {
          "output_type": "stream",
          "text": [
            "Distance covered by you is 10 km \n",
            " Are you tired?\n",
            "Response no\n",
            "40 km are remaining.\n",
            "Distance covered by you is 20 km \n",
            " Are you tired?\n",
            "Response no\n",
            "30 km are remaining.\n",
            "Distance covered by you is 30 km \n",
            " Are you tired?\n",
            "Response no\n",
            "20 km are remaining.\n",
            "Distance covered by you is 40 km \n",
            " Are you tired?\n",
            "Response no\n",
            "10 km are remaining.\n",
            "Distance covered by you is 50 km \n",
            " Are you tired?\n",
            "Response no\n",
            "CONGRATULATIONS\n"
          ],
          "name": "stdout"
        }
      ]
    },
    {
      "cell_type": "markdown",
      "metadata": {
        "id": "nxUuNcEhjDOB"
      },
      "source": [
        "6.  Write a Python program to find those numbers which are divisible by 7 and multiple of 5, between 1500 and 2700 (both included)."
      ]
    },
    {
      "cell_type": "code",
      "metadata": {
        "colab": {
          "base_uri": "https://localhost:8080/"
        },
        "id": "CQmbHqTzj5lr",
        "outputId": "8a932ba3-eada-4485-9b36-9e3ea73cf30c"
      },
      "source": [
        "for i in range (1499,2701):\n",
        " if i % 7==0:\n",
        "  if i %5==0:\n",
        "    print(i)\n",
        "  else:\n",
        "    continue\n",
        " else:\n",
        "  continue"
      ],
      "execution_count": null,
      "outputs": [
        {
          "output_type": "stream",
          "text": [
            "1505\n",
            "1540\n",
            "1575\n",
            "1610\n",
            "1645\n",
            "1680\n",
            "1715\n",
            "1750\n",
            "1785\n",
            "1820\n",
            "1855\n",
            "1890\n",
            "1925\n",
            "1960\n",
            "1995\n",
            "2030\n",
            "2065\n",
            "2100\n",
            "2135\n",
            "2170\n",
            "2205\n",
            "2240\n",
            "2275\n",
            "2310\n",
            "2345\n",
            "2380\n",
            "2415\n",
            "2450\n",
            "2485\n",
            "2520\n",
            "2555\n",
            "2590\n",
            "2625\n",
            "2660\n",
            "2695\n"
          ],
          "name": "stdout"
        }
      ]
    },
    {
      "cell_type": "code",
      "metadata": {
        "id": "nASYXK3NluNQ"
      },
      "source": [
        ""
      ],
      "execution_count": null,
      "outputs": []
    },
    {
      "cell_type": "markdown",
      "metadata": {
        "id": "lRBtrjiJkS5C"
      },
      "source": [
        "7.   Print square of all numbers between 10 to 20 except even numbers"
      ]
    },
    {
      "cell_type": "code",
      "metadata": {
        "colab": {
          "base_uri": "https://localhost:8080/"
        },
        "id": "LHAibUbRkkDV",
        "outputId": "58f6743f-37fe-4ba1-8087-8d64b8b2840a"
      },
      "source": [
        "num=[10,11,12,13,14,15,16,17,18,19,20]\n",
        "for i in num:\n",
        " if i % 2==0:\n",
        "  pass\n",
        " else:\n",
        "  print(i**2)"
      ],
      "execution_count": null,
      "outputs": [
        {
          "output_type": "stream",
          "text": [
            "121\n",
            "169\n",
            "225\n",
            "289\n",
            "361\n"
          ],
          "name": "stdout"
        }
      ]
    },
    {
      "cell_type": "markdown",
      "metadata": {
        "id": "nlowy25qktBr"
      },
      "source": [
        "8.  Your Marks for five Test(test1 to test5) looks like this,\n",
        "    marks_list = [65, 75, 2100, 95, 83]\n",
        "\n",
        "  Write a program that asks you to enter marks and program should tell you in which test that marks occurred. If marks is not found then it should print that as well."
      ]
    },
    {
      "cell_type": "code",
      "metadata": {
        "colab": {
          "base_uri": "https://localhost:8080/"
        },
        "id": "tUqeIK-qkqhI",
        "outputId": "662e2b60-967e-4f35-f254-d2d5cf627a49"
      },
      "source": [
        "marks_list = [65, 75, 2100, 95, 83]\n",
        "marks = int(input(\"Enter your marks \"))\n",
        "if marks in marks_list:\n",
        " print(\"Test\",marks_list.index(marks)+1)\n",
        "else:\n",
        " print(\"Marks not found\")"
      ],
      "execution_count": null,
      "outputs": [
        {
          "output_type": "stream",
          "text": [
            "Enter your marks 2100\n",
            "Test 3\n"
          ],
          "name": "stdout"
        }
      ]
    }
  ]
}