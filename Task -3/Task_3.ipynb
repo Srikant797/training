{
  "nbformat": 4,
  "nbformat_minor": 0,
  "metadata": {
    "colab": {
      "name": "Task -3 .ipynb",
      "provenance": []
    },
    "kernelspec": {
      "name": "python3",
      "display_name": "Python 3"
    },
    "language_info": {
      "name": "python"
    }
  },
  "cells": [
    {
      "cell_type": "markdown",
      "metadata": {
        "id": "c3UOLEWnbrWD"
      },
      "source": [
        "###**Reg No - GO_STP_11828**\n",
        "\n",
        "####**Name - Srikant Kumar Maharana**\n",
        "\n",
        "###**Assignment 3**"
      ]
    },
    {
      "cell_type": "markdown",
      "metadata": {
        "id": "aTpttqxcb-Xr"
      },
      "source": [
        "Q.1 Write a Python Program to sort (ascending and descending) a dictionary by value."
      ]
    },
    {
      "cell_type": "code",
      "metadata": {
        "colab": {
          "base_uri": "https://localhost:8080/"
        },
        "id": "wIvd5bDKbboa",
        "outputId": "8def20d9-8c92-489c-a1c0-7ea50835e341"
      },
      "source": [
        "import operator\n",
        "d = {1: 5, 3: 4, 4:1, 2:10, 0: 1}\n",
        "sorted_d = sorted(d.items(), key=operator.itemgetter(1))\n",
        "print('Dictionary in ascending order by value : ',sorted_d)\n",
        "sorted_d = dict( sorted(d.items(), key=operator.itemgetter(1),reverse=True))\n",
        "print('Dictionary in descending order by value : ',sorted_d)"
      ],
      "execution_count": 1,
      "outputs": [
        {
          "output_type": "stream",
          "text": [
            "Dictionary in ascending order by value :  [(4, 1), (0, 1), (3, 4), (1, 5), (2, 10)]\n",
            "Dictionary in descending order by value :  {2: 10, 1: 5, 3: 4, 4: 1, 0: 1}\n"
          ],
          "name": "stdout"
        }
      ]
    },
    {
      "cell_type": "markdown",
      "metadata": {
        "id": "n4-Yx4qDmyaJ"
      },
      "source": [
        "Q.2 Write a Python Program to add a key to a dictionary. \n",
        "\n",
        "Sample Dictionary : {0: 10, 1: 20}\n",
        "\n",
        "Expected Result : {0: 10, 1: 20, 2: 30}"
      ]
    },
    {
      "cell_type": "code",
      "metadata": {
        "colab": {
          "base_uri": "https://localhost:8080/"
        },
        "id": "F41X0JM0mykA",
        "outputId": "ddac4ed0-9cd1-4d8e-9cf7-23849ef4a5a2"
      },
      "source": [
        "dict = {0 : 10, 1 : 20}\n",
        "print(\"Original Dictionary : \", dict)\n",
        "dict.update({2 : 29})\n",
        "print(\"After Updation : \", dict)"
      ],
      "execution_count": 3,
      "outputs": [
        {
          "output_type": "stream",
          "text": [
            "Original Dictionary :  {0: 10, 1: 20}\n",
            "After Updation :  {0: 10, 1: 20, 2: 29}\n"
          ],
          "name": "stdout"
        }
      ]
    },
    {
      "cell_type": "markdown",
      "metadata": {
        "id": "BecoILpimywA"
      },
      "source": [
        "Q.3 Write a  program asks for City name and Temperature and builds a dictionary using that Later on you can input City name and it will tell you the Temperature of that City."
      ]
    },
    {
      "cell_type": "code",
      "metadata": {
        "colab": {
          "base_uri": "https://localhost:8080/"
        },
        "id": "XxURHmdvmy4x",
        "outputId": "4d8ec710-fb7a-4073-cb4b-c6b219159f39"
      },
      "source": [
        "n = int(input(\"Enter no. of cities: \"))\n",
        "d ={}                     \n",
        "for i in range(n):        \n",
        "    text = input().split()     \n",
        "    d[text[0]] = text[1]       \n",
        "a=input(\"Enter the city: \")\n",
        "for i in d :\n",
        "    if i==a:\n",
        "      print(i, d[i])"
      ],
      "execution_count": 4,
      "outputs": [
        {
          "output_type": "stream",
          "text": [
            "Enter no. of cities: 3\n",
            "Pune 31\n",
            "Alberta 20\n",
            "Delhi 41\n",
            "Enter the city: Delhi\n",
            "Delhi 41\n"
          ],
          "name": "stdout"
        }
      ]
    },
    {
      "cell_type": "markdown",
      "metadata": {
        "id": "NbrkT-fzmzBS"
      },
      "source": [
        "Q. 4 Write a Python program to convert list to list of dictionaries.\n",
        "\n",
        "Sample lists: [\"Black\", \"Red\", \"Maroon\", \"Yellow\"], [\"#000000\", \"#FF0000\", \"#800000\", \"#FFFF00\"]\n",
        "\n",
        "Expected Output: [{'color_name': 'Black', 'color_code': '#000000'}, {'color_name': 'Red', 'color_code': '#FF0000'}, {'color_name': 'Maroon', 'color_code': '#800000'}, {'color_name': 'Yellow', 'color_code': '#FFFF00'}]"
      ]
    },
    {
      "cell_type": "code",
      "metadata": {
        "colab": {
          "base_uri": "https://localhost:8080/"
        },
        "id": "EcGcw2f9mzJE",
        "outputId": "14def890-1a2b-4e77-8cf4-76bb0b66240a"
      },
      "source": [
        "color_name_list = [\"Black\", \"Red\", \"Maroon\", \"Yellow\"]\n",
        "color_code_list = [\"#000000\", \"#FF0000\", \"#800000\", \"#FFFF00\"]\n",
        "colors_dic = []\n",
        "for i in range(0, len(color_name_list)) :\n",
        "  colors_dic.append({\"Color_Name\" : color_name_list[i], \"Color_Code\" : color_code_list[i]})\n",
        "print(\"Updated Dictionary : \", colors_dic)"
      ],
      "execution_count": 9,
      "outputs": [
        {
          "output_type": "stream",
          "text": [
            "Updated Dictionary :  [{'Color_Name': 'Black', 'Color_Code': '#000000'}, {'Color_Name': 'Red', 'Color_Code': '#FF0000'}, {'Color_Name': 'Maroon', 'Color_Code': '#800000'}, {'Color_Name': 'Yellow', 'Color_Code': '#FFFF00'}]\n"
          ],
          "name": "stdout"
        }
      ]
    },
    {
      "cell_type": "markdown",
      "metadata": {
        "id": "FkQH97JnmzQb"
      },
      "source": [
        "Q. 5 We have following information on Employees and their Salary (Salary is in lakhs),\n",
        "\n",
        "Employee\tSalary\n",
        "\n",
        "John   14\n",
        "\n",
        "Smith\t13\n",
        "\n",
        "Alice\t 32\n",
        "\n",
        "Daneil\t21\n",
        "\n",
        "Using above create a dictionary of Employees and their Salary\n",
        "Write a program that asks user for three type of inputs,\n",
        "print: if user enter print then it should print all Employees with their Salary in this format,\n",
        "\n",
        "John ==>14\n",
        "\n",
        "Smith ==>13\n",
        "\n",
        "Alice ==>32\n",
        "\n",
        "Daneil ==>21\n",
        "\n",
        "add: if user input adds then it should further ask for an Employee name to add. If Employee already exists in our dataset then it should print that it exists and do nothing. If it doesn't then it asks for Salary and add that new Employee/Salary in our dictionary and print it\n",
        "\n",
        "remove: when user inputs remove it should ask for an Employee to remove. If an Employee exists in our dictionary then remove it and print a new dictionary using format shown above in (a). Else print that Employee doesn't exist!\n",
        "\n",
        "query: on this again ask the user for which Employee he or she wants to query. When a user inputs that Employee it will print the Salary of that Employee."
      ]
    },
    {
      "cell_type": "code",
      "metadata": {
        "colab": {
          "base_uri": "https://localhost:8080/",
          "height": 656
        },
        "id": "-T6G_PFAmzXs",
        "outputId": "32d02ee0-d57b-49d0-e2fc-07afc795de52"
      },
      "source": [
        "d={'John': 14, 'Smith': 13, 'Alice': 32, 'Daniel':21 }\n",
        "n=0\n",
        "while(n<=3):\n",
        "  a=input(\"Enter your choice of the following: a)Print b)Add c)Remove d)Query\")\n",
        "  if a=='Print':\n",
        "    for i in d:\n",
        "      print(i+\" ==> \",d[i])\n",
        "\n",
        "\n",
        "  elif a=='Add':\n",
        "    f=0\n",
        "    name= input(\"Enter the name of employee: \")\n",
        "    for i in d:\n",
        "      if i==name:\n",
        "        print(\"Employee already exists!\")\n",
        "        f=1\n",
        "        \n",
        "    if f==0:\n",
        "      salary=input(\"Enter The salary(in lakhs): \")\n",
        "      d[name]= salary\n",
        "      print (d)\n",
        "      \n",
        "    \n",
        "\n",
        "\n",
        "  elif a=='Remove':\n",
        "    flag=0\n",
        "    rname=input(\"Enter the employee you want to remove: \")\n",
        "    for j in d:\n",
        "      if j==rname:\n",
        "        d.pop(rname)\n",
        "        flag=1\n",
        "        \n",
        "    if flag==0:\n",
        "      print(\"Name does not exist!\")\n",
        "    else:\n",
        "      print(d)\n",
        "\n",
        "\n",
        "  elif a=='Query':\n",
        "    qname= input(\"Enter the name you want to query about: \")\n",
        "    for k in d:\n",
        "      if k==qname:\n",
        "        print(k+\"==>\",d[k])\n",
        "        flag1=1\n",
        "    if flag1==0:\n",
        "      print(\"Employee does not exist!\")\n",
        "\n",
        "        \n",
        "  n=n+1\n",
        "\n"
      ],
      "execution_count": 12,
      "outputs": [
        {
          "output_type": "stream",
          "text": [
            "Enter your choice of the following: a)Print b)Add c)Remove d)QueryPrint\n",
            "John ==>  14\n",
            "Smith ==>  13\n",
            "Alice ==>  32\n",
            "Daniel ==>  21\n",
            "Enter your choice of the following: a)Print b)Add c)Remove d)QueryQuery\n",
            "Enter the name you want to query about: Smith\n",
            "Smith==> 13\n"
          ],
          "name": "stdout"
        },
        {
          "output_type": "error",
          "ename": "KeyboardInterrupt",
          "evalue": "ignored",
          "traceback": [
            "\u001b[0;31m---------------------------------------------------------------------------\u001b[0m",
            "\u001b[0;31mKeyboardInterrupt\u001b[0m                         Traceback (most recent call last)",
            "\u001b[0;32m/usr/local/lib/python3.7/dist-packages/ipykernel/kernelbase.py\u001b[0m in \u001b[0;36m_input_request\u001b[0;34m(self, prompt, ident, parent, password)\u001b[0m\n\u001b[1;32m    728\u001b[0m             \u001b[0;32mtry\u001b[0m\u001b[0;34m:\u001b[0m\u001b[0;34m\u001b[0m\u001b[0;34m\u001b[0m\u001b[0m\n\u001b[0;32m--> 729\u001b[0;31m                 \u001b[0mident\u001b[0m\u001b[0;34m,\u001b[0m \u001b[0mreply\u001b[0m \u001b[0;34m=\u001b[0m \u001b[0mself\u001b[0m\u001b[0;34m.\u001b[0m\u001b[0msession\u001b[0m\u001b[0;34m.\u001b[0m\u001b[0mrecv\u001b[0m\u001b[0;34m(\u001b[0m\u001b[0mself\u001b[0m\u001b[0;34m.\u001b[0m\u001b[0mstdin_socket\u001b[0m\u001b[0;34m,\u001b[0m \u001b[0;36m0\u001b[0m\u001b[0;34m)\u001b[0m\u001b[0;34m\u001b[0m\u001b[0;34m\u001b[0m\u001b[0m\n\u001b[0m\u001b[1;32m    730\u001b[0m             \u001b[0;32mexcept\u001b[0m \u001b[0mException\u001b[0m\u001b[0;34m:\u001b[0m\u001b[0;34m\u001b[0m\u001b[0;34m\u001b[0m\u001b[0m\n",
            "\u001b[0;32m/usr/local/lib/python3.7/dist-packages/jupyter_client/session.py\u001b[0m in \u001b[0;36mrecv\u001b[0;34m(self, socket, mode, content, copy)\u001b[0m\n\u001b[1;32m    802\u001b[0m         \u001b[0;32mtry\u001b[0m\u001b[0;34m:\u001b[0m\u001b[0;34m\u001b[0m\u001b[0;34m\u001b[0m\u001b[0m\n\u001b[0;32m--> 803\u001b[0;31m             \u001b[0mmsg_list\u001b[0m \u001b[0;34m=\u001b[0m \u001b[0msocket\u001b[0m\u001b[0;34m.\u001b[0m\u001b[0mrecv_multipart\u001b[0m\u001b[0;34m(\u001b[0m\u001b[0mmode\u001b[0m\u001b[0;34m,\u001b[0m \u001b[0mcopy\u001b[0m\u001b[0;34m=\u001b[0m\u001b[0mcopy\u001b[0m\u001b[0;34m)\u001b[0m\u001b[0;34m\u001b[0m\u001b[0;34m\u001b[0m\u001b[0m\n\u001b[0m\u001b[1;32m    804\u001b[0m         \u001b[0;32mexcept\u001b[0m \u001b[0mzmq\u001b[0m\u001b[0;34m.\u001b[0m\u001b[0mZMQError\u001b[0m \u001b[0;32mas\u001b[0m \u001b[0me\u001b[0m\u001b[0;34m:\u001b[0m\u001b[0;34m\u001b[0m\u001b[0;34m\u001b[0m\u001b[0m\n",
            "\u001b[0;32m/usr/local/lib/python3.7/dist-packages/zmq/sugar/socket.py\u001b[0m in \u001b[0;36mrecv_multipart\u001b[0;34m(self, flags, copy, track)\u001b[0m\n\u001b[1;32m    582\u001b[0m         \"\"\"\n\u001b[0;32m--> 583\u001b[0;31m         \u001b[0mparts\u001b[0m \u001b[0;34m=\u001b[0m \u001b[0;34m[\u001b[0m\u001b[0mself\u001b[0m\u001b[0;34m.\u001b[0m\u001b[0mrecv\u001b[0m\u001b[0;34m(\u001b[0m\u001b[0mflags\u001b[0m\u001b[0;34m,\u001b[0m \u001b[0mcopy\u001b[0m\u001b[0;34m=\u001b[0m\u001b[0mcopy\u001b[0m\u001b[0;34m,\u001b[0m \u001b[0mtrack\u001b[0m\u001b[0;34m=\u001b[0m\u001b[0mtrack\u001b[0m\u001b[0;34m)\u001b[0m\u001b[0;34m]\u001b[0m\u001b[0;34m\u001b[0m\u001b[0;34m\u001b[0m\u001b[0m\n\u001b[0m\u001b[1;32m    584\u001b[0m         \u001b[0;31m# have first part already, only loop while more to receive\u001b[0m\u001b[0;34m\u001b[0m\u001b[0;34m\u001b[0m\u001b[0;34m\u001b[0m\u001b[0m\n",
            "\u001b[0;32mzmq/backend/cython/socket.pyx\u001b[0m in \u001b[0;36mzmq.backend.cython.socket.Socket.recv\u001b[0;34m()\u001b[0m\n",
            "\u001b[0;32mzmq/backend/cython/socket.pyx\u001b[0m in \u001b[0;36mzmq.backend.cython.socket.Socket.recv\u001b[0;34m()\u001b[0m\n",
            "\u001b[0;32mzmq/backend/cython/socket.pyx\u001b[0m in \u001b[0;36mzmq.backend.cython.socket._recv_copy\u001b[0;34m()\u001b[0m\n",
            "\u001b[0;32m/usr/local/lib/python3.7/dist-packages/zmq/backend/cython/checkrc.pxd\u001b[0m in \u001b[0;36mzmq.backend.cython.checkrc._check_rc\u001b[0;34m()\u001b[0m\n",
            "\u001b[0;31mKeyboardInterrupt\u001b[0m: ",
            "\nDuring handling of the above exception, another exception occurred:\n",
            "\u001b[0;31mKeyboardInterrupt\u001b[0m                         Traceback (most recent call last)",
            "\u001b[0;32m<ipython-input-12-758aa365e74d>\u001b[0m in \u001b[0;36m<module>\u001b[0;34m()\u001b[0m\n\u001b[1;32m      2\u001b[0m \u001b[0mn\u001b[0m\u001b[0;34m=\u001b[0m\u001b[0;36m0\u001b[0m\u001b[0;34m\u001b[0m\u001b[0;34m\u001b[0m\u001b[0m\n\u001b[1;32m      3\u001b[0m \u001b[0;32mwhile\u001b[0m\u001b[0;34m(\u001b[0m\u001b[0mn\u001b[0m\u001b[0;34m<=\u001b[0m\u001b[0;36m3\u001b[0m\u001b[0;34m)\u001b[0m\u001b[0;34m:\u001b[0m\u001b[0;34m\u001b[0m\u001b[0;34m\u001b[0m\u001b[0m\n\u001b[0;32m----> 4\u001b[0;31m   \u001b[0ma\u001b[0m\u001b[0;34m=\u001b[0m\u001b[0minput\u001b[0m\u001b[0;34m(\u001b[0m\u001b[0;34m\"Enter your choice of the following: a)Print b)Add c)Remove d)Query\"\u001b[0m\u001b[0;34m)\u001b[0m\u001b[0;34m\u001b[0m\u001b[0;34m\u001b[0m\u001b[0m\n\u001b[0m\u001b[1;32m      5\u001b[0m   \u001b[0;32mif\u001b[0m \u001b[0ma\u001b[0m\u001b[0;34m==\u001b[0m\u001b[0;34m'Print'\u001b[0m\u001b[0;34m:\u001b[0m\u001b[0;34m\u001b[0m\u001b[0;34m\u001b[0m\u001b[0m\n\u001b[1;32m      6\u001b[0m     \u001b[0;32mfor\u001b[0m \u001b[0mi\u001b[0m \u001b[0;32min\u001b[0m \u001b[0md\u001b[0m\u001b[0;34m:\u001b[0m\u001b[0;34m\u001b[0m\u001b[0;34m\u001b[0m\u001b[0m\n",
            "\u001b[0;32m/usr/local/lib/python3.7/dist-packages/ipykernel/kernelbase.py\u001b[0m in \u001b[0;36mraw_input\u001b[0;34m(self, prompt)\u001b[0m\n\u001b[1;32m    702\u001b[0m             \u001b[0mself\u001b[0m\u001b[0;34m.\u001b[0m\u001b[0m_parent_ident\u001b[0m\u001b[0;34m,\u001b[0m\u001b[0;34m\u001b[0m\u001b[0;34m\u001b[0m\u001b[0m\n\u001b[1;32m    703\u001b[0m             \u001b[0mself\u001b[0m\u001b[0;34m.\u001b[0m\u001b[0m_parent_header\u001b[0m\u001b[0;34m,\u001b[0m\u001b[0;34m\u001b[0m\u001b[0;34m\u001b[0m\u001b[0m\n\u001b[0;32m--> 704\u001b[0;31m             \u001b[0mpassword\u001b[0m\u001b[0;34m=\u001b[0m\u001b[0;32mFalse\u001b[0m\u001b[0;34m,\u001b[0m\u001b[0;34m\u001b[0m\u001b[0;34m\u001b[0m\u001b[0m\n\u001b[0m\u001b[1;32m    705\u001b[0m         )\n\u001b[1;32m    706\u001b[0m \u001b[0;34m\u001b[0m\u001b[0m\n",
            "\u001b[0;32m/usr/local/lib/python3.7/dist-packages/ipykernel/kernelbase.py\u001b[0m in \u001b[0;36m_input_request\u001b[0;34m(self, prompt, ident, parent, password)\u001b[0m\n\u001b[1;32m    732\u001b[0m             \u001b[0;32mexcept\u001b[0m \u001b[0mKeyboardInterrupt\u001b[0m\u001b[0;34m:\u001b[0m\u001b[0;34m\u001b[0m\u001b[0;34m\u001b[0m\u001b[0m\n\u001b[1;32m    733\u001b[0m                 \u001b[0;31m# re-raise KeyboardInterrupt, to truncate traceback\u001b[0m\u001b[0;34m\u001b[0m\u001b[0;34m\u001b[0m\u001b[0;34m\u001b[0m\u001b[0m\n\u001b[0;32m--> 734\u001b[0;31m                 \u001b[0;32mraise\u001b[0m \u001b[0mKeyboardInterrupt\u001b[0m\u001b[0;34m\u001b[0m\u001b[0;34m\u001b[0m\u001b[0m\n\u001b[0m\u001b[1;32m    735\u001b[0m             \u001b[0;32melse\u001b[0m\u001b[0;34m:\u001b[0m\u001b[0;34m\u001b[0m\u001b[0;34m\u001b[0m\u001b[0m\n\u001b[1;32m    736\u001b[0m                 \u001b[0;32mbreak\u001b[0m\u001b[0;34m\u001b[0m\u001b[0;34m\u001b[0m\u001b[0m\n",
            "\u001b[0;31mKeyboardInterrupt\u001b[0m: "
          ]
        }
      ]
    },
    {
      "cell_type": "markdown",
      "metadata": {
        "id": "ZGKkEfG0sQGX"
      },
      "source": [
        "Questions on Sets -\n",
        "\n",
        "1.What is the difference between a set and a frozenset? Create any set and try to use frozenset(setname)."
      ]
    },
    {
      "cell_type": "code",
      "metadata": {
        "colab": {
          "base_uri": "https://localhost:8080/"
        },
        "id": "fwApk_Tbmzzn",
        "outputId": "3997d486-a22d-4671-c287-d9e6530fbd44"
      },
      "source": [
        "x1 = {3, 4, 7, 11, 1, 2}\n",
        "x2 = frozenset(x1)\n",
        "print(\"Type of x1 : \", type(x1))\n",
        "print(\"Type of x2 : \", type(x2))\n"
      ],
      "execution_count": 16,
      "outputs": [
        {
          "output_type": "stream",
          "text": [
            "Type of x1 :  <class 'set'>\n",
            "Type of x2 :  <class 'frozenset'>\n"
          ],
          "name": "stdout"
        }
      ]
    },
    {
      "cell_type": "markdown",
      "metadata": {
        "id": "5C0DWfuxsfh-"
      },
      "source": [
        "Q.2 Find the elements in a given set that are not in another set\n",
        "\n",
        "    set1 = {10,20,30,40,50}\n",
        "\n",
        "    set2 = {40,50,60,70,80}\n",
        "\n",
        " Difference between set1 and set2 is {10,20,30}"
      ]
    },
    {
      "cell_type": "code",
      "metadata": {
        "colab": {
          "base_uri": "https://localhost:8080/"
        },
        "id": "oGd30PYWsfro",
        "outputId": "877f6921-b79c-46d1-e562-2894ab5f0484"
      },
      "source": [
        "set1={10,20,30,40,50}\n",
        "set2={40,50,60,70,80}\n",
        "set1.difference_update(set2)\n",
        "print(set1)"
      ],
      "execution_count": 14,
      "outputs": [
        {
          "output_type": "stream",
          "text": [
            "{10, 20, 30}\n"
          ],
          "name": "stdout"
        }
      ]
    }
  ]
}
