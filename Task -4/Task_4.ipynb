{
  "nbformat": 4,
  "nbformat_minor": 0,
  "metadata": {
    "colab": {
      "name": "Task-4.ipynb",
      "provenance": [],
      "collapsed_sections": []
    },
    "kernelspec": {
      "name": "python3",
      "display_name": "Python 3"
    },
    "language_info": {
      "name": "python"
    }
  },
  "cells": [
    {
      "cell_type": "markdown",
      "metadata": {
        "id": "Y4ue6aheotC_"
      },
      "source": [
        "###**Reg No - GO_STP_11828**\n",
        "\n",
        "####**Name - Srikant Kumar Maharana**\n",
        "\n",
        "###**Assignment 4**"
      ]
    },
    {
      "cell_type": "markdown",
      "metadata": {
        "id": "pcLbSdNVopKJ"
      },
      "source": [
        "1 .Import the numpy package under the name np and Print the numpy version and the\n",
        "conguration"
      ]
    },
    {
      "cell_type": "code",
      "metadata": {
        "colab": {
          "base_uri": "https://localhost:8080/"
        },
        "id": "ifh3-T90omRW",
        "outputId": "24cc02a5-ad74-45e6-b6fc-1cd12776cc07"
      },
      "source": [
        "import numpy as np\n",
        "print(np.__version__)\n",
        "print(np.show_config())\n"
      ],
      "execution_count": 1,
      "outputs": [
        {
          "output_type": "stream",
          "text": [
            "1.19.5\n",
            "blas_mkl_info:\n",
            "  NOT AVAILABLE\n",
            "blis_info:\n",
            "  NOT AVAILABLE\n",
            "openblas_info:\n",
            "    libraries = ['openblas', 'openblas']\n",
            "    library_dirs = ['/usr/local/lib']\n",
            "    language = c\n",
            "    define_macros = [('HAVE_CBLAS', None)]\n",
            "blas_opt_info:\n",
            "    libraries = ['openblas', 'openblas']\n",
            "    library_dirs = ['/usr/local/lib']\n",
            "    language = c\n",
            "    define_macros = [('HAVE_CBLAS', None)]\n",
            "lapack_mkl_info:\n",
            "  NOT AVAILABLE\n",
            "openblas_lapack_info:\n",
            "    libraries = ['openblas', 'openblas']\n",
            "    library_dirs = ['/usr/local/lib']\n",
            "    language = c\n",
            "    define_macros = [('HAVE_CBLAS', None)]\n",
            "lapack_opt_info:\n",
            "    libraries = ['openblas', 'openblas']\n",
            "    library_dirs = ['/usr/local/lib']\n",
            "    language = c\n",
            "    define_macros = [('HAVE_CBLAS', None)]\n",
            "None\n"
          ],
          "name": "stdout"
        }
      ]
    },
    {
      "cell_type": "markdown",
      "metadata": {
        "id": "ZL5EiRADpaj4"
      },
      "source": [
        "2.Create a null vector of size 10"
      ]
    },
    {
      "cell_type": "code",
      "metadata": {
        "colab": {
          "base_uri": "https://localhost:8080/"
        },
        "id": "Kl_-pmyUpcGe",
        "outputId": "3f94d889-229e-4bc4-f1ea-d8771c7f7506"
      },
      "source": [
        "import numpy as np\n",
        "x = np.zeros(10)\n",
        "print(x)"
      ],
      "execution_count": 2,
      "outputs": [
        {
          "output_type": "stream",
          "text": [
            "[0. 0. 0. 0. 0. 0. 0. 0. 0. 0.]\n"
          ],
          "name": "stdout"
        }
      ]
    },
    {
      "cell_type": "markdown",
      "metadata": {
        "id": "UxW76L9cphj8"
      },
      "source": [
        "3.Create Simple 1-D array and check type and check data types in array"
      ]
    },
    {
      "cell_type": "code",
      "metadata": {
        "colab": {
          "base_uri": "https://localhost:8080/"
        },
        "id": "INJdtb64pi5a",
        "outputId": "35b15982-a90d-4097-90ee-92319146124c"
      },
      "source": [
        "import numpy as np\n",
        "a = np.array([5, 4, 3])   \n",
        "print(type(a))\n",
        "print(a.dtype)"
      ],
      "execution_count": 3,
      "outputs": [
        {
          "output_type": "stream",
          "text": [
            "<class 'numpy.ndarray'>\n",
            "int64\n"
          ],
          "name": "stdout"
        }
      ]
    },
    {
      "cell_type": "markdown",
      "metadata": {
        "id": "yzy3I8XQpp5b"
      },
      "source": [
        "4.How to find number of dimensions, bytes per element and bytes of memory used?"
      ]
    },
    {
      "cell_type": "code",
      "metadata": {
        "colab": {
          "base_uri": "https://localhost:8080/"
        },
        "id": "q7WUG0jQpqn-",
        "outputId": "763e9faa-2056-4bb5-e6d0-dce102894ff1"
      },
      "source": [
        "import numpy as np\n",
        "a = np.array([20,26,55])\n",
        "print(\"Size of the array: \",a.size)\n",
        "print(\"Memory size of array element in bytes: \",a.itemsize) \n",
        "print(\"Memory size in bytes:\",a.size * a.itemsize)"
      ],
      "execution_count": 4,
      "outputs": [
        {
          "output_type": "stream",
          "text": [
            "Size of the array:  3\n",
            "Memory size of array element in bytes:  8\n",
            "Memory size in bytes: 24\n"
          ],
          "name": "stdout"
        }
      ]
    },
    {
      "cell_type": "markdown",
      "metadata": {
        "id": "QSX7LCTAp5lR"
      },
      "source": [
        "5.Create a null vector of size 10 but the fifth value which is 1"
      ]
    },
    {
      "cell_type": "code",
      "metadata": {
        "colab": {
          "base_uri": "https://localhost:8080/"
        },
        "id": "e8xriMg-p8aJ",
        "outputId": "34aa1e8c-89cc-45d5-de6e-ddf4fc99012a"
      },
      "source": [
        "import numpy as np\n",
        "x = np.zeros(10)\n",
        "print(x)\n",
        "print(\"Update fifth value to 1\")\n",
        "x[4] = 1\n",
        "print(x)"
      ],
      "execution_count": 5,
      "outputs": [
        {
          "output_type": "stream",
          "text": [
            "[0. 0. 0. 0. 0. 0. 0. 0. 0. 0.]\n",
            "Update fifth value to 1\n",
            "[0. 0. 0. 0. 1. 0. 0. 0. 0. 0.]\n"
          ],
          "name": "stdout"
        }
      ]
    },
    {
      "cell_type": "markdown",
      "metadata": {
        "id": "q5siiqalqAlZ"
      },
      "source": [
        "6.Create a vector with values ranging from 10 to 49"
      ]
    },
    {
      "cell_type": "code",
      "metadata": {
        "colab": {
          "base_uri": "https://localhost:8080/"
        },
        "id": "s5bGwMQKqCW6",
        "outputId": "cc55f120-1119-4e99-f1ce-d0b975777b9d"
      },
      "source": [
        "import numpy as np\n",
        "a = np.arange(10,49)\n",
        "print(a)"
      ],
      "execution_count": 6,
      "outputs": [
        {
          "output_type": "stream",
          "text": [
            "[10 11 12 13 14 15 16 17 18 19 20 21 22 23 24 25 26 27 28 29 30 31 32 33\n",
            " 34 35 36 37 38 39 40 41 42 43 44 45 46 47 48]\n"
          ],
          "name": "stdout"
        }
      ]
    },
    {
      "cell_type": "markdown",
      "metadata": {
        "id": "VFXPGfOgqHkw"
      },
      "source": [
        "7.Reverse a vector (first element becomes last)"
      ]
    },
    {
      "cell_type": "code",
      "metadata": {
        "colab": {
          "base_uri": "https://localhost:8080/"
        },
        "id": "ieWD9GJJqHMk",
        "outputId": "f9711d60-2a64-46ca-ab63-a9cfe9bf5ad2"
      },
      "source": [
        "import numpy as np\n",
        "x = np.arange(1, 25)\n",
        "print(\"Original array:\")\n",
        "print(x)\n",
        "print(\"Reverse array:\")\n",
        "x = x[::-1]\n",
        "print(x)"
      ],
      "execution_count": 8,
      "outputs": [
        {
          "output_type": "stream",
          "text": [
            "Original array:\n",
            "[ 1  2  3  4  5  6  7  8  9 10 11 12 13 14 15 16 17 18 19 20 21 22 23 24]\n",
            "Reverse array:\n",
            "[24 23 22 21 20 19 18 17 16 15 14 13 12 11 10  9  8  7  6  5  4  3  2  1]\n"
          ],
          "name": "stdout"
        }
      ]
    },
    {
      "cell_type": "markdown",
      "metadata": {
        "id": "B_wokbydqVHc"
      },
      "source": [
        "8.Create a 3x3 matrix with values ranging from 0 to 8"
      ]
    },
    {
      "cell_type": "code",
      "metadata": {
        "colab": {
          "base_uri": "https://localhost:8080/"
        },
        "id": "ngP0ApW4qV7Z",
        "outputId": "ef19feec-2056-453c-9bbb-0d84e79a089d"
      },
      "source": [
        "import numpy as np\n",
        "x =  np.arange(0, 9).reshape(3,3)\n",
        "print(x)"
      ],
      "execution_count": 9,
      "outputs": [
        {
          "output_type": "stream",
          "text": [
            "[[0 1 2]\n",
            " [3 4 5]\n",
            " [6 7 8]]\n"
          ],
          "name": "stdout"
        }
      ]
    },
    {
      "cell_type": "markdown",
      "metadata": {
        "id": "oSDJLV7yqZ4P"
      },
      "source": [
        "\n",
        "9.Find indices of non-zero elements from [1,2,0,0,4,0]"
      ]
    },
    {
      "cell_type": "code",
      "metadata": {
        "colab": {
          "base_uri": "https://localhost:8080/"
        },
        "id": "v_xUhLhvqaZr",
        "outputId": "e8ef805a-e8ad-4f67-ec8d-d123cde7b2d2"
      },
      "source": [
        "import numpy as np\n",
        "nums = np.array([1,2,0,0,4,0])\n",
        "print(\"Indices of elements equal to zero of the said array:\")\n",
        "result = np.where(nums != 0)[0]\n",
        "print(result)"
      ],
      "execution_count": 11,
      "outputs": [
        {
          "output_type": "stream",
          "text": [
            "Indices of elements equal to zero of the said array:\n",
            "[0 1 4]\n"
          ],
          "name": "stdout"
        }
      ]
    },
    {
      "cell_type": "markdown",
      "metadata": {
        "id": "1mX8OXdhqkt8"
      },
      "source": [
        "10.Create a 3x3 identity matrix"
      ]
    },
    {
      "cell_type": "code",
      "metadata": {
        "colab": {
          "base_uri": "https://localhost:8080/"
        },
        "id": "q1rHrjCyqnxo",
        "outputId": "ab419990-bd4f-48c4-b4f2-1c765c53aff5"
      },
      "source": [
        "import numpy as np\n",
        "x=np.eye(3)\n",
        "print('3x3 matrix:')\n",
        "print(x)"
      ],
      "execution_count": 13,
      "outputs": [
        {
          "output_type": "stream",
          "text": [
            "3x3 matrix:\n",
            "[[1. 0. 0.]\n",
            " [0. 1. 0.]\n",
            " [0. 0. 1.]]\n"
          ],
          "name": "stdout"
        }
      ]
    },
    {
      "cell_type": "markdown",
      "metadata": {
        "id": "8_LAiZg-qzoP"
      },
      "source": [
        "11.Create a 3x3x3 array with random values"
      ]
    },
    {
      "cell_type": "code",
      "metadata": {
        "colab": {
          "base_uri": "https://localhost:8080/"
        },
        "id": "kMMRnEoBq0I_",
        "outputId": "b3da4481-36c4-41d7-efce-6e49d391ec53"
      },
      "source": [
        "import numpy as np\n",
        "x = np.random.random((3,3,3))\n",
        "print(x)"
      ],
      "execution_count": 14,
      "outputs": [
        {
          "output_type": "stream",
          "text": [
            "[[[0.77511038 0.70235903 0.45938777]\n",
            "  [0.02241515 0.1144697  0.67172619]\n",
            "  [0.43023922 0.83153068 0.70118278]]\n",
            "\n",
            " [[0.66654827 0.23342151 0.74362802]\n",
            "  [0.39264847 0.89807376 0.97957383]\n",
            "  [0.82428275 0.46279509 0.13610139]]\n",
            "\n",
            " [[0.38803395 0.40164277 0.35767692]\n",
            "  [0.31357417 0.97760425 0.86005527]\n",
            "  [0.44984978 0.54198396 0.35633519]]]\n"
          ],
          "name": "stdout"
        }
      ]
    },
    {
      "cell_type": "markdown",
      "metadata": {
        "id": "o08p8MNRq2wf"
      },
      "source": [
        "12.Create a 10x10 array with random values and find the minimum and maximum values"
      ]
    },
    {
      "cell_type": "code",
      "metadata": {
        "colab": {
          "base_uri": "https://localhost:8080/"
        },
        "id": "-K8N1G9vq5l1",
        "outputId": "0d8920b1-1a74-4c59-acc2-dd649462593c"
      },
      "source": [
        "import numpy as np\n",
        "x = np.random.random((10,10))\n",
        "xmin, xmax = x.min(), x.max()\n",
        "print(\"Minimum and Maximum Values:\")\n",
        "print(xmin, xmax)"
      ],
      "execution_count": 15,
      "outputs": [
        {
          "output_type": "stream",
          "text": [
            "Minimum and Maximum Values:\n",
            "0.003087784268758109 0.9897878416258642\n"
          ],
          "name": "stdout"
        }
      ]
    },
    {
      "cell_type": "markdown",
      "metadata": {
        "id": "K6nuf4TLrAIe"
      },
      "source": [
        "13.Create a random vector of size 30 and find the mean value"
      ]
    },
    {
      "cell_type": "code",
      "metadata": {
        "colab": {
          "base_uri": "https://localhost:8080/"
        },
        "id": "5VDlITGarBUc",
        "outputId": "7956acf0-8d74-472d-eb65-4a2a0c91c373"
      },
      "source": [
        "import numpy as np\n",
        "x = np.random.random(30)\n",
        "print(x)\n",
        "print(np.mean(x))"
      ],
      "execution_count": 16,
      "outputs": [
        {
          "output_type": "stream",
          "text": [
            "[0.7652247  0.79697786 0.23549759 0.42144857 0.53260926 0.68738438\n",
            " 0.41689295 0.3314483  0.01239619 0.21626812 0.99418346 0.46676908\n",
            " 0.82978668 0.58674725 0.05207    0.02725333 0.5741308  0.05562277\n",
            " 0.6337302  0.83313418 0.78037917 0.544527   0.85791824 0.01138682\n",
            " 0.10688019 0.82719475 0.69432159 0.88111868 0.81881828 0.86259495]\n",
            "0.5284905118553725\n"
          ],
          "name": "stdout"
        }
      ]
    },
    {
      "cell_type": "markdown",
      "metadata": {
        "id": "6qVsf7qSrFPs"
      },
      "source": [
        "14.Create a 2d array with 1 on the border and 0 inside"
      ]
    },
    {
      "cell_type": "code",
      "metadata": {
        "colab": {
          "base_uri": "https://localhost:8080/"
        },
        "id": "n5jG1lXYrF_2",
        "outputId": "be2df858-48c4-4750-e2ca-b8c047c5f7d3"
      },
      "source": [
        "import numpy as np\n",
        "x = np.ones((5,5))\n",
        "x[1:-1,1:-1] = 0\n",
        "print(x)"
      ],
      "execution_count": 18,
      "outputs": [
        {
          "output_type": "stream",
          "text": [
            "[[1. 1. 1. 1. 1.]\n",
            " [1. 0. 0. 0. 1.]\n",
            " [1. 0. 0. 0. 1.]\n",
            " [1. 0. 0. 0. 1.]\n",
            " [1. 1. 1. 1. 1.]]\n"
          ],
          "name": "stdout"
        }
      ]
    },
    {
      "cell_type": "markdown",
      "metadata": {
        "id": "cmr8LPQbrO4O"
      },
      "source": [
        "15.How to add a border (filled with 0's) around an existing array?"
      ]
    },
    {
      "cell_type": "code",
      "metadata": {
        "colab": {
          "base_uri": "https://localhost:8080/"
        },
        "id": "aB3k8Av1rRFZ",
        "outputId": "79952013-01b7-4bff-cce4-5644d0efb556"
      },
      "source": [
        "import numpy as np\n",
        "x = np.ones((3,3))\n",
        "x = np.pad(x, pad_width=1, mode='constant', constant_values=0)\n",
        "print(x)"
      ],
      "execution_count": 19,
      "outputs": [
        {
          "output_type": "stream",
          "text": [
            "[[0. 0. 0. 0. 0.]\n",
            " [0. 1. 1. 1. 0.]\n",
            " [0. 1. 1. 1. 0.]\n",
            " [0. 1. 1. 1. 0.]\n",
            " [0. 0. 0. 0. 0.]]\n"
          ],
          "name": "stdout"
        }
      ]
    },
    {
      "cell_type": "markdown",
      "metadata": {
        "id": "LPNYWwmrrXpP"
      },
      "source": [
        "16.How to Accessing/Changing specific elements, rows, columns, etc in Numpy array?\n",
        "\n",
        "Example - [[ 1 2 3 4 5 6 7] [ 8 9 10 11 12 13 14]]\n",
        "\n",
        "Get 13, get first row only, get 3rd column only, get [2, 4, 6], replace 13 by 20"
      ]
    },
    {
      "cell_type": "code",
      "metadata": {
        "colab": {
          "base_uri": "https://localhost:8080/"
        },
        "id": "-oSQ2RvGrYvz",
        "outputId": "051e7b79-f8fd-482a-dfe6-7ef8a6aa9888"
      },
      "source": [
        "import numpy as np\n",
        "Arr= np.array([[1,2,3,4,5,6,7],[8,9,10,11,12,13,14]])\n",
        "print(Arr)"
      ],
      "execution_count": 20,
      "outputs": [
        {
          "output_type": "stream",
          "text": [
            "[[ 1  2  3  4  5  6  7]\n",
            " [ 8  9 10 11 12 13 14]]\n"
          ],
          "name": "stdout"
        }
      ]
    },
    {
      "cell_type": "code",
      "metadata": {
        "colab": {
          "base_uri": "https://localhost:8080/"
        },
        "id": "w3uotiDXrepG",
        "outputId": "c971b82e-a194-45c4-d29f-2b8d156234dd"
      },
      "source": [
        "print(Arr[1,5])\n"
      ],
      "execution_count": 21,
      "outputs": [
        {
          "output_type": "stream",
          "text": [
            "13\n"
          ],
          "name": "stdout"
        }
      ]
    },
    {
      "cell_type": "code",
      "metadata": {
        "colab": {
          "base_uri": "https://localhost:8080/"
        },
        "id": "dUegvSfSrhJq",
        "outputId": "0478d73a-2a35-4c5b-f350-654d7412ad69"
      },
      "source": [
        "print(Arr[0,:])"
      ],
      "execution_count": 22,
      "outputs": [
        {
          "output_type": "stream",
          "text": [
            "[1 2 3 4 5 6 7]\n"
          ],
          "name": "stdout"
        }
      ]
    },
    {
      "cell_type": "code",
      "metadata": {
        "colab": {
          "base_uri": "https://localhost:8080/"
        },
        "id": "PcT4MYJfro-t",
        "outputId": "d42ca364-90dc-4fa2-efe3-5b0f5329c07c"
      },
      "source": [
        "print(Arr[:,2])"
      ],
      "execution_count": 23,
      "outputs": [
        {
          "output_type": "stream",
          "text": [
            "[ 3 10]\n"
          ],
          "name": "stdout"
        }
      ]
    },
    {
      "cell_type": "code",
      "metadata": {
        "colab": {
          "base_uri": "https://localhost:8080/"
        },
        "id": "b4zpq7b8rrHO",
        "outputId": "d403dc5d-b772-428b-f163-6406277c0243"
      },
      "source": [
        "print(Arr[0,:][1:6:2])"
      ],
      "execution_count": 24,
      "outputs": [
        {
          "output_type": "stream",
          "text": [
            "[2 4 6]\n"
          ],
          "name": "stdout"
        }
      ]
    },
    {
      "cell_type": "code",
      "metadata": {
        "colab": {
          "base_uri": "https://localhost:8080/"
        },
        "id": "VFv2fjFjrtCY",
        "outputId": "5a275cee-bece-4d85-b0b0-d247672e7d39"
      },
      "source": [
        "Arr[1,5]=20\n",
        "print(Arr)"
      ],
      "execution_count": 25,
      "outputs": [
        {
          "output_type": "stream",
          "text": [
            "[[ 1  2  3  4  5  6  7]\n",
            " [ 8  9 10 11 12 20 14]]\n"
          ],
          "name": "stdout"
        }
      ]
    },
    {
      "cell_type": "markdown",
      "metadata": {
        "id": "TrfS_z1yrvjH"
      },
      "source": [
        "17.How to Convert a 1D array to a 2D array with 2 rows"
      ]
    },
    {
      "cell_type": "code",
      "metadata": {
        "colab": {
          "base_uri": "https://localhost:8080/"
        },
        "id": "nclPuJMMrxgx",
        "outputId": "e3f451b3-00cf-4ac5-d68a-3c3ffc27ba90"
      },
      "source": [
        "import numpy as np\n",
        "array = np.array([1, 2, 3, 4, 5, 6])\n",
        "newarray = array.reshape(2, 3)\n",
        "print(newarray)"
      ],
      "execution_count": 28,
      "outputs": [
        {
          "output_type": "stream",
          "text": [
            "[[1 2 3]\n",
            " [4 5 6]]\n"
          ],
          "name": "stdout"
        }
      ]
    },
    {
      "cell_type": "markdown",
      "metadata": {
        "id": "TZDQt2Sdr7Y_"
      },
      "source": [
        "18.Create the following pattern without hardcoding. Use only numpy functions and the below input array a.\n",
        "\n",
        "Input:\n",
        "a = np.array([1,2,3])\n",
        "\n",
        "Desired Output:\n",
        "array([1, 1, 1, 2, 2, 2, 3, 3, 3, 1, 2, 3, 1, 2, 3, 1, 2, 3])"
      ]
    },
    {
      "cell_type": "code",
      "metadata": {
        "colab": {
          "base_uri": "https://localhost:8080/"
        },
        "id": "65ID6MpjsA42",
        "outputId": "bd72e365-6457-4bb0-db05-176613847751"
      },
      "source": [
        "import numpy as np\n",
        "a=np.array([1,2,3])\n",
        "print(np.r_[np.repeat(a, 3), np.tile(a, 3)])"
      ],
      "execution_count": 29,
      "outputs": [
        {
          "output_type": "stream",
          "text": [
            "[1 1 1 2 2 2 3 3 3 1 2 3 1 2 3 1 2 3]\n"
          ],
          "name": "stdout"
        }
      ]
    },
    {
      "cell_type": "markdown",
      "metadata": {
        "id": "lpn8MoopsFEx"
      },
      "source": [
        "19.Write a program to show how Numpy taking less memory compared to Python List?"
      ]
    },
    {
      "cell_type": "code",
      "metadata": {
        "colab": {
          "base_uri": "https://localhost:8080/"
        },
        "id": "3JQQk1TssFuf",
        "outputId": "5d99713e-9e44-48a2-e81a-79d62a53f6e2"
      },
      "source": [
        "import numpy as np\n",
        "import sys\n",
        "S= range(1000)\n",
        "print(\"Size of each element of list in bytes: \",sys.getsizeof(S))\n",
        "print(\"Size of the whole list in bytes: \",sys.getsizeof(S)*len(S)) \n",
        "D= np.arange(1000)\n",
        "print(\"Size of each element of the Numpy array in bytes: \",D.itemsize)\n",
        "print(\"Size of the whole Numpy array in bytes: \",D.size*D.itemsize)"
      ],
      "execution_count": 30,
      "outputs": [
        {
          "output_type": "stream",
          "text": [
            "Size of each element of list in bytes:  48\n",
            "Size of the whole list in bytes:  48000\n",
            "Size of each element of the Numpy array in bytes:  8\n",
            "Size of the whole Numpy array in bytes:  8000\n"
          ],
          "name": "stdout"
        }
      ]
    },
    {
      "cell_type": "markdown",
      "metadata": {
        "id": "U_xfgOpqsUX0"
      },
      "source": [
        "20.Write a program to show how Numpy taking less time compared to Python List?"
      ]
    },
    {
      "cell_type": "code",
      "metadata": {
        "colab": {
          "base_uri": "https://localhost:8080/"
        },
        "id": "yCOwB1B8sVLR",
        "outputId": "38f8b6e6-326d-4604-a4a1-2e96e251bd77"
      },
      "source": [
        "import numpy\n",
        "import time\n",
        "size = 1000000  \n",
        "list1 = range(size)\n",
        "list2 = range(size)\n",
        "array1 = numpy.arange(size)  \n",
        "array2 = numpy.arange(size)\n",
        "initialTime = time.time()\n",
        "resultantList = [(a * b) for a, b in zip(list1, list2)]\n",
        "print(\"Time taken by Lists to perform multiplication:\",(time.time() - initialTime),\"seconds\")\n",
        "initialTime = time.time()\n",
        "resultantArray = array1 * array2\n",
        "print(\"Time taken by NumPy Arrays to perform multiplication:\",(time.time() - initialTime),\"seconds\")"
      ],
      "execution_count": 31,
      "outputs": [
        {
          "output_type": "stream",
          "text": [
            "Time taken by Lists to perform multiplication: 0.12540555000305176 seconds\n",
            "Time taken by NumPy Arrays to perform multiplication: 0.003839254379272461 seconds\n"
          ],
          "name": "stdout"
        }
      ]
    }
  ]
}