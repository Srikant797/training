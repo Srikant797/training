{
  "nbformat": 4,
  "nbformat_minor": 0,
  "metadata": {
    "colab": {
      "name": "Task-5.ipynb",
      "provenance": [],
      "collapsed_sections": []
    },
    "kernelspec": {
      "name": "python3",
      "display_name": "Python 3"
    },
    "language_info": {
      "name": "python"
    }
  },
  "cells": [
    {
      "cell_type": "markdown",
      "metadata": {
        "id": "DAU2JaB5Jvnl"
      },
      "source": [
        "###**Reg No - GO_STP_11828**\n",
        "\n",
        "####**Name - Srikant Kumar Maharana**\n",
        "\n",
        "###**Assignment 5**"
      ]
    },
    {
      "cell_type": "markdown",
      "metadata": {
        "id": "iTLpe7XVJuy5"
      },
      "source": [
        "1.Load the IMDb Dataset and read"
      ]
    },
    {
      "cell_type": "code",
      "metadata": {
        "colab": {
          "base_uri": "https://localhost:8080/",
          "height": 178
        },
        "id": "VVwXMt8MJk3z",
        "outputId": "7d54a4e3-4ebd-46d4-fcef-8542c2262e25"
      },
      "source": [
        "files.upload()\n",
        "\n"
      ],
      "execution_count": 4,
      "outputs": [
        {
          "output_type": "error",
          "ename": "NameError",
          "evalue": "ignored",
          "traceback": [
            "\u001b[0;31m---------------------------------------------------------------------------\u001b[0m",
            "\u001b[0;31mNameError\u001b[0m                                 Traceback (most recent call last)",
            "\u001b[0;32m<ipython-input-4-373ac89aa026>\u001b[0m in \u001b[0;36m<module>\u001b[0;34m()\u001b[0m\n\u001b[0;32m----> 1\u001b[0;31m \u001b[0mfiles\u001b[0m\u001b[0;34m.\u001b[0m\u001b[0mupload\u001b[0m\u001b[0;34m(\u001b[0m\u001b[0;34m)\u001b[0m\u001b[0;34m\u001b[0m\u001b[0;34m\u001b[0m\u001b[0m\n\u001b[0m\u001b[1;32m      2\u001b[0m \u001b[0;34m\u001b[0m\u001b[0m\n",
            "\u001b[0;31mNameError\u001b[0m: name 'files' is not defined"
          ]
        }
      ]
    },
    {
      "cell_type": "markdown",
      "metadata": {
        "id": "N5x_haq9C89U"
      },
      "source": [
        "# New Section"
      ]
    },
    {
      "cell_type": "code",
      "metadata": {
        "id": "_cLyUQciMVll"
      },
      "source": [
        "import pandas as pd\n",
        "movie= pd.read_csv(\"IMDB-Movie-Data.csv\")\n",
        "import numpy as np\n"
      ],
      "execution_count": 5,
      "outputs": []
    },
    {
      "cell_type": "markdown",
      "metadata": {
        "id": "LRnmhN3LLLpR"
      },
      "source": [
        "2.View the dataset"
      ]
    },
    {
      "cell_type": "code",
      "metadata": {
        "colab": {
          "base_uri": "https://localhost:8080/",
          "height": 296
        },
        "id": "kjurXeNvMdEp",
        "outputId": "62b15db2-c2e5-442b-f6c8-ddd90bb09249"
      },
      "source": [
        "movie.head()"
      ],
      "execution_count": 6,
      "outputs": [
        {
          "output_type": "execute_result",
          "data": {
            "text/html": [
              "<div>\n",
              "<style scoped>\n",
              "    .dataframe tbody tr th:only-of-type {\n",
              "        vertical-align: middle;\n",
              "    }\n",
              "\n",
              "    .dataframe tbody tr th {\n",
              "        vertical-align: top;\n",
              "    }\n",
              "\n",
              "    .dataframe thead th {\n",
              "        text-align: right;\n",
              "    }\n",
              "</style>\n",
              "<table border=\"1\" class=\"dataframe\">\n",
              "  <thead>\n",
              "    <tr style=\"text-align: right;\">\n",
              "      <th></th>\n",
              "      <th>Rank</th>\n",
              "      <th>Title</th>\n",
              "      <th>Genre</th>\n",
              "      <th>Description</th>\n",
              "      <th>Director</th>\n",
              "      <th>Actors</th>\n",
              "      <th>Year</th>\n",
              "      <th>Runtime (Minutes)</th>\n",
              "      <th>Rating</th>\n",
              "      <th>Votes</th>\n",
              "      <th>Revenue (Millions)</th>\n",
              "      <th>Metascore</th>\n",
              "    </tr>\n",
              "  </thead>\n",
              "  <tbody>\n",
              "    <tr>\n",
              "      <th>0</th>\n",
              "      <td>1</td>\n",
              "      <td>Guardians of the Galaxy</td>\n",
              "      <td>Action,Adventure,Sci-Fi</td>\n",
              "      <td>A group of intergalactic criminals are forced ...</td>\n",
              "      <td>James Gunn</td>\n",
              "      <td>Chris Pratt, Vin Diesel, Bradley Cooper, Zoe S...</td>\n",
              "      <td>2014</td>\n",
              "      <td>121</td>\n",
              "      <td>8.1</td>\n",
              "      <td>757074</td>\n",
              "      <td>333.13</td>\n",
              "      <td>76.0</td>\n",
              "    </tr>\n",
              "    <tr>\n",
              "      <th>1</th>\n",
              "      <td>2</td>\n",
              "      <td>Prometheus</td>\n",
              "      <td>Adventure,Mystery,Sci-Fi</td>\n",
              "      <td>Following clues to the origin of mankind, a te...</td>\n",
              "      <td>Ridley Scott</td>\n",
              "      <td>Noomi Rapace, Logan Marshall-Green, Michael Fa...</td>\n",
              "      <td>2012</td>\n",
              "      <td>124</td>\n",
              "      <td>7.0</td>\n",
              "      <td>485820</td>\n",
              "      <td>126.46</td>\n",
              "      <td>65.0</td>\n",
              "    </tr>\n",
              "    <tr>\n",
              "      <th>2</th>\n",
              "      <td>3</td>\n",
              "      <td>Split</td>\n",
              "      <td>Horror,Thriller</td>\n",
              "      <td>Three girls are kidnapped by a man with a diag...</td>\n",
              "      <td>M. Night Shyamalan</td>\n",
              "      <td>James McAvoy, Anya Taylor-Joy, Haley Lu Richar...</td>\n",
              "      <td>2016</td>\n",
              "      <td>117</td>\n",
              "      <td>7.3</td>\n",
              "      <td>157606</td>\n",
              "      <td>138.12</td>\n",
              "      <td>62.0</td>\n",
              "    </tr>\n",
              "    <tr>\n",
              "      <th>3</th>\n",
              "      <td>4</td>\n",
              "      <td>Sing</td>\n",
              "      <td>Animation,Comedy,Family</td>\n",
              "      <td>In a city of humanoid animals, a hustling thea...</td>\n",
              "      <td>Christophe Lourdelet</td>\n",
              "      <td>Matthew McConaughey,Reese Witherspoon, Seth Ma...</td>\n",
              "      <td>2016</td>\n",
              "      <td>108</td>\n",
              "      <td>7.2</td>\n",
              "      <td>60545</td>\n",
              "      <td>270.32</td>\n",
              "      <td>59.0</td>\n",
              "    </tr>\n",
              "    <tr>\n",
              "      <th>4</th>\n",
              "      <td>5</td>\n",
              "      <td>Suicide Squad</td>\n",
              "      <td>Action,Adventure,Fantasy</td>\n",
              "      <td>A secret government agency recruits some of th...</td>\n",
              "      <td>David Ayer</td>\n",
              "      <td>Will Smith, Jared Leto, Margot Robbie, Viola D...</td>\n",
              "      <td>2016</td>\n",
              "      <td>123</td>\n",
              "      <td>6.2</td>\n",
              "      <td>393727</td>\n",
              "      <td>325.02</td>\n",
              "      <td>40.0</td>\n",
              "    </tr>\n",
              "  </tbody>\n",
              "</table>\n",
              "</div>"
            ],
            "text/plain": [
              "   Rank                    Title  ... Revenue (Millions) Metascore\n",
              "0     1  Guardians of the Galaxy  ...             333.13      76.0\n",
              "1     2               Prometheus  ...             126.46      65.0\n",
              "2     3                    Split  ...             138.12      62.0\n",
              "3     4                     Sing  ...             270.32      59.0\n",
              "4     5            Suicide Squad  ...             325.02      40.0\n",
              "\n",
              "[5 rows x 12 columns]"
            ]
          },
          "metadata": {
            "tags": []
          },
          "execution_count": 6
        }
      ]
    },
    {
      "cell_type": "markdown",
      "metadata": {
        "id": "f03koG8pMhw5"
      },
      "source": [
        "3.Understand some basic information about the dataset and Inspect the \n",
        "dataframe's columns, shapes, variable types etc.\n"
      ]
    },
    {
      "cell_type": "code",
      "metadata": {
        "colab": {
          "base_uri": "https://localhost:8080/"
        },
        "id": "fWhxhEIUMqH2",
        "outputId": "2298ccbf-95eb-487d-9895-a5e812627a91"
      },
      "source": [
        "movie.dtypes"
      ],
      "execution_count": 7,
      "outputs": [
        {
          "output_type": "execute_result",
          "data": {
            "text/plain": [
              "Rank                    int64\n",
              "Title                  object\n",
              "Genre                  object\n",
              "Description            object\n",
              "Director               object\n",
              "Actors                 object\n",
              "Year                    int64\n",
              "Runtime (Minutes)       int64\n",
              "Rating                float64\n",
              "Votes                   int64\n",
              "Revenue (Millions)    float64\n",
              "Metascore             float64\n",
              "dtype: object"
            ]
          },
          "metadata": {
            "tags": []
          },
          "execution_count": 7
        }
      ]
    },
    {
      "cell_type": "code",
      "metadata": {
        "colab": {
          "base_uri": "https://localhost:8080/"
        },
        "id": "OMyY_OdPNHGo",
        "outputId": "6d45b695-43b4-44d3-c13c-8782ccb01233"
      },
      "source": [
        "movie.columns"
      ],
      "execution_count": 8,
      "outputs": [
        {
          "output_type": "execute_result",
          "data": {
            "text/plain": [
              "Index(['Rank', 'Title', 'Genre', 'Description', 'Director', 'Actors', 'Year',\n",
              "       'Runtime (Minutes)', 'Rating', 'Votes', 'Revenue (Millions)',\n",
              "       'Metascore'],\n",
              "      dtype='object')"
            ]
          },
          "metadata": {
            "tags": []
          },
          "execution_count": 8
        }
      ]
    },
    {
      "cell_type": "code",
      "metadata": {
        "colab": {
          "base_uri": "https://localhost:8080/"
        },
        "id": "hjhpWHSYNJMs",
        "outputId": "49c3f649-9da9-4670-ec3c-3272d926f93b"
      },
      "source": [
        "movie.axes"
      ],
      "execution_count": 9,
      "outputs": [
        {
          "output_type": "execute_result",
          "data": {
            "text/plain": [
              "[RangeIndex(start=0, stop=1000, step=1),\n",
              " Index(['Rank', 'Title', 'Genre', 'Description', 'Director', 'Actors', 'Year',\n",
              "        'Runtime (Minutes)', 'Rating', 'Votes', 'Revenue (Millions)',\n",
              "        'Metascore'],\n",
              "       dtype='object')]"
            ]
          },
          "metadata": {
            "tags": []
          },
          "execution_count": 9
        }
      ]
    },
    {
      "cell_type": "code",
      "metadata": {
        "colab": {
          "base_uri": "https://localhost:8080/"
        },
        "id": "CoObIVQMNO72",
        "outputId": "1b796975-a2b0-4c8b-f2a3-dfe2b8660160"
      },
      "source": [
        "movie.describe"
      ],
      "execution_count": 10,
      "outputs": [
        {
          "output_type": "execute_result",
          "data": {
            "text/plain": [
              "<bound method NDFrame.describe of      Rank                    Title  ... Revenue (Millions) Metascore\n",
              "0       1  Guardians of the Galaxy  ...             333.13      76.0\n",
              "1       2               Prometheus  ...             126.46      65.0\n",
              "2       3                    Split  ...             138.12      62.0\n",
              "3       4                     Sing  ...             270.32      59.0\n",
              "4       5            Suicide Squad  ...             325.02      40.0\n",
              "..    ...                      ...  ...                ...       ...\n",
              "995   996     Secret in Their Eyes  ...                NaN      45.0\n",
              "996   997          Hostel: Part II  ...              17.54      46.0\n",
              "997   998   Step Up 2: The Streets  ...              58.01      50.0\n",
              "998   999             Search Party  ...                NaN      22.0\n",
              "999  1000               Nine Lives  ...              19.64      11.0\n",
              "\n",
              "[1000 rows x 12 columns]>"
            ]
          },
          "metadata": {
            "tags": []
          },
          "execution_count": 10
        }
      ]
    },
    {
      "cell_type": "markdown",
      "metadata": {
        "id": "n2gEEqhWNEBw"
      },
      "source": [
        "4.Data Selection – Indexing and Slicing data"
      ]
    },
    {
      "cell_type": "code",
      "metadata": {
        "colab": {
          "base_uri": "https://localhost:8080/"
        },
        "id": "yu9-wqFdNkNw",
        "outputId": "1540066d-5a5f-401d-e16a-fc9837932579"
      },
      "source": [
        "movie_year=movie['Rating']\n",
        "movie_year"
      ],
      "execution_count": 11,
      "outputs": [
        {
          "output_type": "execute_result",
          "data": {
            "text/plain": [
              "0      8.1\n",
              "1      7.0\n",
              "2      7.3\n",
              "3      7.2\n",
              "4      6.2\n",
              "      ... \n",
              "995    6.2\n",
              "996    5.5\n",
              "997    6.2\n",
              "998    5.6\n",
              "999    5.3\n",
              "Name: Rating, Length: 1000, dtype: float64"
            ]
          },
          "metadata": {
            "tags": []
          },
          "execution_count": 11
        }
      ]
    },
    {
      "cell_type": "markdown",
      "metadata": {
        "id": "3WfrPdjpN0U_"
      },
      "source": [
        "5.Data Selection – Based on Conditional "
      ]
    },
    {
      "cell_type": "code",
      "metadata": {
        "colab": {
          "base_uri": "https://localhost:8080/",
          "height": 77
        },
        "id": "e2ky9EOlNzpt",
        "outputId": "5b300147-4e75-404a-ad91-98e161bd5cfb"
      },
      "source": [
        "top=movie[[\"Title\",\"Director\"]][movie[\"Rating\"]==movie[\"Rating\"].max()]\n",
        "top.head()"
      ],
      "execution_count": 12,
      "outputs": [
        {
          "output_type": "execute_result",
          "data": {
            "text/html": [
              "<div>\n",
              "<style scoped>\n",
              "    .dataframe tbody tr th:only-of-type {\n",
              "        vertical-align: middle;\n",
              "    }\n",
              "\n",
              "    .dataframe tbody tr th {\n",
              "        vertical-align: top;\n",
              "    }\n",
              "\n",
              "    .dataframe thead th {\n",
              "        text-align: right;\n",
              "    }\n",
              "</style>\n",
              "<table border=\"1\" class=\"dataframe\">\n",
              "  <thead>\n",
              "    <tr style=\"text-align: right;\">\n",
              "      <th></th>\n",
              "      <th>Title</th>\n",
              "      <th>Director</th>\n",
              "    </tr>\n",
              "  </thead>\n",
              "  <tbody>\n",
              "    <tr>\n",
              "      <th>54</th>\n",
              "      <td>The Dark Knight</td>\n",
              "      <td>Christopher Nolan</td>\n",
              "    </tr>\n",
              "  </tbody>\n",
              "</table>\n",
              "</div>"
            ],
            "text/plain": [
              "              Title           Director\n",
              "54  The Dark Knight  Christopher Nolan"
            ]
          },
          "metadata": {
            "tags": []
          },
          "execution_count": 12
        }
      ]
    },
    {
      "cell_type": "markdown",
      "metadata": {
        "id": "0TKusrkpOBAY"
      },
      "source": [
        "6.Groupby operations"
      ]
    },
    {
      "cell_type": "code",
      "metadata": {
        "colab": {
          "base_uri": "https://localhost:8080/",
          "height": 402
        },
        "id": "0pHwYQJzODrW",
        "outputId": "eb8863cb-b6ed-40d2-b88b-9f173e332e54"
      },
      "source": [
        "directors=movie.groupby(\"Director\")[\"Rating\"].mean().reset_index()\n",
        "directors.sort_values(\"Rating\", ascending=False)"
      ],
      "execution_count": 14,
      "outputs": [
        {
          "output_type": "execute_result",
          "data": {
            "text/html": [
              "<div>\n",
              "<style scoped>\n",
              "    .dataframe tbody tr th:only-of-type {\n",
              "        vertical-align: middle;\n",
              "    }\n",
              "\n",
              "    .dataframe tbody tr th {\n",
              "        vertical-align: top;\n",
              "    }\n",
              "\n",
              "    .dataframe thead th {\n",
              "        text-align: right;\n",
              "    }\n",
              "</style>\n",
              "<table border=\"1\" class=\"dataframe\">\n",
              "  <thead>\n",
              "    <tr style=\"text-align: right;\">\n",
              "      <th></th>\n",
              "      <th>Director</th>\n",
              "      <th>Rating</th>\n",
              "    </tr>\n",
              "  </thead>\n",
              "  <tbody>\n",
              "    <tr>\n",
              "      <th>465</th>\n",
              "      <td>Nitesh Tiwari</td>\n",
              "      <td>8.80</td>\n",
              "    </tr>\n",
              "    <tr>\n",
              "      <th>108</th>\n",
              "      <td>Christopher Nolan</td>\n",
              "      <td>8.68</td>\n",
              "    </tr>\n",
              "    <tr>\n",
              "      <th>392</th>\n",
              "      <td>Makoto Shinkai</td>\n",
              "      <td>8.60</td>\n",
              "    </tr>\n",
              "    <tr>\n",
              "      <th>470</th>\n",
              "      <td>Olivier Nakache</td>\n",
              "      <td>8.60</td>\n",
              "    </tr>\n",
              "    <tr>\n",
              "      <th>194</th>\n",
              "      <td>Florian Henckel von Donnersmarck</td>\n",
              "      <td>8.50</td>\n",
              "    </tr>\n",
              "    <tr>\n",
              "      <th>...</th>\n",
              "      <td>...</td>\n",
              "      <td>...</td>\n",
              "    </tr>\n",
              "    <tr>\n",
              "      <th>435</th>\n",
              "      <td>Micheal Bafaro</td>\n",
              "      <td>3.50</td>\n",
              "    </tr>\n",
              "    <tr>\n",
              "      <th>329</th>\n",
              "      <td>Jonathan Holbrook</td>\n",
              "      <td>3.20</td>\n",
              "    </tr>\n",
              "    <tr>\n",
              "      <th>274</th>\n",
              "      <td>James Wong</td>\n",
              "      <td>2.70</td>\n",
              "    </tr>\n",
              "    <tr>\n",
              "      <th>566</th>\n",
              "      <td>Shawn Burkett</td>\n",
              "      <td>2.70</td>\n",
              "    </tr>\n",
              "    <tr>\n",
              "      <th>277</th>\n",
              "      <td>Jason Friedberg</td>\n",
              "      <td>1.90</td>\n",
              "    </tr>\n",
              "  </tbody>\n",
              "</table>\n",
              "<p>644 rows × 2 columns</p>\n",
              "</div>"
            ],
            "text/plain": [
              "                             Director  Rating\n",
              "465                     Nitesh Tiwari    8.80\n",
              "108                 Christopher Nolan    8.68\n",
              "392                    Makoto Shinkai    8.60\n",
              "470                   Olivier Nakache    8.60\n",
              "194  Florian Henckel von Donnersmarck    8.50\n",
              "..                                ...     ...\n",
              "435                    Micheal Bafaro    3.50\n",
              "329                 Jonathan Holbrook    3.20\n",
              "274                        James Wong    2.70\n",
              "566                     Shawn Burkett    2.70\n",
              "277                   Jason Friedberg    1.90\n",
              "\n",
              "[644 rows x 2 columns]"
            ]
          },
          "metadata": {
            "tags": []
          },
          "execution_count": 14
        }
      ]
    },
    {
      "cell_type": "markdown",
      "metadata": {
        "id": "WdQ6RlrrDRaN"
      },
      "source": [
        "7.Sorting operation\n"
      ]
    },
    {
      "cell_type": "code",
      "metadata": {
        "colab": {
          "base_uri": "https://localhost:8080/",
          "height": 1000
        },
        "id": "8Q7N0rzyDUQy",
        "outputId": "ef9064c4-bfa1-456c-c8c7-3a7d2bbc90a0"
      },
      "source": [
        "top_rated = movie.sort_values([\"Rating\",\"Metascore\"], ascending=False)\n",
        "top_rated.head(n=15)"
      ],
      "execution_count": 21,
      "outputs": [
        {
          "output_type": "execute_result",
          "data": {
            "text/html": [
              "<div>\n",
              "<style scoped>\n",
              "    .dataframe tbody tr th:only-of-type {\n",
              "        vertical-align: middle;\n",
              "    }\n",
              "\n",
              "    .dataframe tbody tr th {\n",
              "        vertical-align: top;\n",
              "    }\n",
              "\n",
              "    .dataframe thead th {\n",
              "        text-align: right;\n",
              "    }\n",
              "</style>\n",
              "<table border=\"1\" class=\"dataframe\">\n",
              "  <thead>\n",
              "    <tr style=\"text-align: right;\">\n",
              "      <th></th>\n",
              "      <th>Rank</th>\n",
              "      <th>Title</th>\n",
              "      <th>Genre</th>\n",
              "      <th>Description</th>\n",
              "      <th>Director</th>\n",
              "      <th>Actors</th>\n",
              "      <th>Year</th>\n",
              "      <th>Runtime (Minutes)</th>\n",
              "      <th>Rating</th>\n",
              "      <th>Votes</th>\n",
              "      <th>Revenue (Millions)</th>\n",
              "      <th>Metascore</th>\n",
              "    </tr>\n",
              "  </thead>\n",
              "  <tbody>\n",
              "    <tr>\n",
              "      <th>54</th>\n",
              "      <td>55</td>\n",
              "      <td>The Dark Knight</td>\n",
              "      <td>Action,Crime,Drama</td>\n",
              "      <td>When the menace known as the Joker wreaks havo...</td>\n",
              "      <td>Christopher Nolan</td>\n",
              "      <td>Christian Bale, Heath Ledger, Aaron Eckhart,Mi...</td>\n",
              "      <td>2008</td>\n",
              "      <td>152</td>\n",
              "      <td>9.0</td>\n",
              "      <td>1791916</td>\n",
              "      <td>533.32</td>\n",
              "      <td>82.0</td>\n",
              "    </tr>\n",
              "    <tr>\n",
              "      <th>80</th>\n",
              "      <td>81</td>\n",
              "      <td>Inception</td>\n",
              "      <td>Action,Adventure,Sci-Fi</td>\n",
              "      <td>A thief, who steals corporate secrets through ...</td>\n",
              "      <td>Christopher Nolan</td>\n",
              "      <td>Leonardo DiCaprio, Joseph Gordon-Levitt, Ellen...</td>\n",
              "      <td>2010</td>\n",
              "      <td>148</td>\n",
              "      <td>8.8</td>\n",
              "      <td>1583625</td>\n",
              "      <td>292.57</td>\n",
              "      <td>74.0</td>\n",
              "    </tr>\n",
              "    <tr>\n",
              "      <th>117</th>\n",
              "      <td>118</td>\n",
              "      <td>Dangal</td>\n",
              "      <td>Action,Biography,Drama</td>\n",
              "      <td>Former wrestler Mahavir Singh Phogat and his t...</td>\n",
              "      <td>Nitesh Tiwari</td>\n",
              "      <td>Aamir Khan, Sakshi Tanwar, Fatima Sana Shaikh,...</td>\n",
              "      <td>2016</td>\n",
              "      <td>161</td>\n",
              "      <td>8.8</td>\n",
              "      <td>48969</td>\n",
              "      <td>11.15</td>\n",
              "      <td>NaN</td>\n",
              "    </tr>\n",
              "    <tr>\n",
              "      <th>96</th>\n",
              "      <td>97</td>\n",
              "      <td>Kimi no na wa</td>\n",
              "      <td>Animation,Drama,Fantasy</td>\n",
              "      <td>Two strangers find themselves linked in a biza...</td>\n",
              "      <td>Makoto Shinkai</td>\n",
              "      <td>Ryûnosuke Kamiki, Mone Kamishiraishi, Ryô Nari...</td>\n",
              "      <td>2016</td>\n",
              "      <td>106</td>\n",
              "      <td>8.6</td>\n",
              "      <td>34110</td>\n",
              "      <td>4.68</td>\n",
              "      <td>79.0</td>\n",
              "    </tr>\n",
              "    <tr>\n",
              "      <th>36</th>\n",
              "      <td>37</td>\n",
              "      <td>Interstellar</td>\n",
              "      <td>Adventure,Drama,Sci-Fi</td>\n",
              "      <td>A team of explorers travel through a wormhole ...</td>\n",
              "      <td>Christopher Nolan</td>\n",
              "      <td>Matthew McConaughey, Anne Hathaway, Jessica Ch...</td>\n",
              "      <td>2014</td>\n",
              "      <td>169</td>\n",
              "      <td>8.6</td>\n",
              "      <td>1047747</td>\n",
              "      <td>187.99</td>\n",
              "      <td>74.0</td>\n",
              "    </tr>\n",
              "    <tr>\n",
              "      <th>249</th>\n",
              "      <td>250</td>\n",
              "      <td>The Intouchables</td>\n",
              "      <td>Biography,Comedy,Drama</td>\n",
              "      <td>After he becomes a quadriplegic from a paragli...</td>\n",
              "      <td>Olivier Nakache</td>\n",
              "      <td>François Cluzet, Omar Sy, Anne Le Ny, Audrey F...</td>\n",
              "      <td>2011</td>\n",
              "      <td>112</td>\n",
              "      <td>8.6</td>\n",
              "      <td>557965</td>\n",
              "      <td>13.18</td>\n",
              "      <td>57.0</td>\n",
              "    </tr>\n",
              "    <tr>\n",
              "      <th>476</th>\n",
              "      <td>477</td>\n",
              "      <td>The Lives of Others</td>\n",
              "      <td>Drama,Thriller</td>\n",
              "      <td>In 1984 East Berlin, an agent of the secret po...</td>\n",
              "      <td>Florian Henckel von Donnersmarck</td>\n",
              "      <td>Ulrich Mühe, Martina Gedeck,Sebastian Koch, Ul...</td>\n",
              "      <td>2006</td>\n",
              "      <td>137</td>\n",
              "      <td>8.5</td>\n",
              "      <td>278103</td>\n",
              "      <td>11.28</td>\n",
              "      <td>89.0</td>\n",
              "    </tr>\n",
              "    <tr>\n",
              "      <th>133</th>\n",
              "      <td>134</td>\n",
              "      <td>Whiplash</td>\n",
              "      <td>Drama,Music</td>\n",
              "      <td>A promising young drummer enrolls at a cut-thr...</td>\n",
              "      <td>Damien Chazelle</td>\n",
              "      <td>Miles Teller, J.K. Simmons, Melissa Benoist, P...</td>\n",
              "      <td>2014</td>\n",
              "      <td>107</td>\n",
              "      <td>8.5</td>\n",
              "      <td>477276</td>\n",
              "      <td>13.09</td>\n",
              "      <td>88.0</td>\n",
              "    </tr>\n",
              "    <tr>\n",
              "      <th>99</th>\n",
              "      <td>100</td>\n",
              "      <td>The Departed</td>\n",
              "      <td>Crime,Drama,Thriller</td>\n",
              "      <td>An undercover cop and a mole in the police att...</td>\n",
              "      <td>Martin Scorsese</td>\n",
              "      <td>Leonardo DiCaprio, Matt Damon, Jack Nicholson,...</td>\n",
              "      <td>2006</td>\n",
              "      <td>151</td>\n",
              "      <td>8.5</td>\n",
              "      <td>937414</td>\n",
              "      <td>132.37</td>\n",
              "      <td>85.0</td>\n",
              "    </tr>\n",
              "    <tr>\n",
              "      <th>124</th>\n",
              "      <td>125</td>\n",
              "      <td>The Dark Knight Rises</td>\n",
              "      <td>Action,Thriller</td>\n",
              "      <td>Eight years after the Joker's reign of anarchy...</td>\n",
              "      <td>Christopher Nolan</td>\n",
              "      <td>Christian Bale, Tom Hardy, Anne Hathaway,Gary ...</td>\n",
              "      <td>2012</td>\n",
              "      <td>164</td>\n",
              "      <td>8.5</td>\n",
              "      <td>1222645</td>\n",
              "      <td>448.13</td>\n",
              "      <td>78.0</td>\n",
              "    </tr>\n",
              "    <tr>\n",
              "      <th>64</th>\n",
              "      <td>65</td>\n",
              "      <td>The Prestige</td>\n",
              "      <td>Drama,Mystery,Sci-Fi</td>\n",
              "      <td>Two stage magicians engage in competitive one-...</td>\n",
              "      <td>Christopher Nolan</td>\n",
              "      <td>Christian Bale, Hugh Jackman, Scarlett Johanss...</td>\n",
              "      <td>2006</td>\n",
              "      <td>130</td>\n",
              "      <td>8.5</td>\n",
              "      <td>913152</td>\n",
              "      <td>53.08</td>\n",
              "      <td>66.0</td>\n",
              "    </tr>\n",
              "    <tr>\n",
              "      <th>991</th>\n",
              "      <td>992</td>\n",
              "      <td>Taare Zameen Par</td>\n",
              "      <td>Drama,Family,Music</td>\n",
              "      <td>An eight-year-old boy is thought to be a lazy ...</td>\n",
              "      <td>Aamir Khan</td>\n",
              "      <td>Darsheel Safary, Aamir Khan, Tanay Chheda, Sac...</td>\n",
              "      <td>2007</td>\n",
              "      <td>165</td>\n",
              "      <td>8.5</td>\n",
              "      <td>102697</td>\n",
              "      <td>1.20</td>\n",
              "      <td>42.0</td>\n",
              "    </tr>\n",
              "    <tr>\n",
              "      <th>144</th>\n",
              "      <td>145</td>\n",
              "      <td>Django Unchained</td>\n",
              "      <td>Drama,Western</td>\n",
              "      <td>With the help of a German bounty hunter , a fr...</td>\n",
              "      <td>Quentin Tarantino</td>\n",
              "      <td>Jamie Foxx, Christoph Waltz, Leonardo DiCaprio...</td>\n",
              "      <td>2012</td>\n",
              "      <td>165</td>\n",
              "      <td>8.4</td>\n",
              "      <td>1039115</td>\n",
              "      <td>162.80</td>\n",
              "      <td>81.0</td>\n",
              "    </tr>\n",
              "    <tr>\n",
              "      <th>861</th>\n",
              "      <td>862</td>\n",
              "      <td>Koe no katachi</td>\n",
              "      <td>Animation,Drama,Romance</td>\n",
              "      <td>The story revolves around Nishimiya Shoko, a g...</td>\n",
              "      <td>Naoko Yamada</td>\n",
              "      <td>Miyu Irino, Saori Hayami, Aoi Yuki, Kenshô Ono</td>\n",
              "      <td>2016</td>\n",
              "      <td>129</td>\n",
              "      <td>8.4</td>\n",
              "      <td>2421</td>\n",
              "      <td>NaN</td>\n",
              "      <td>80.0</td>\n",
              "    </tr>\n",
              "    <tr>\n",
              "      <th>430</th>\n",
              "      <td>431</td>\n",
              "      <td>3 Idiots</td>\n",
              "      <td>Comedy,Drama</td>\n",
              "      <td>Two friends are searching for their long lost ...</td>\n",
              "      <td>Rajkumar Hirani</td>\n",
              "      <td>Aamir Khan, Madhavan, Mona Singh, Sharman Joshi</td>\n",
              "      <td>2009</td>\n",
              "      <td>170</td>\n",
              "      <td>8.4</td>\n",
              "      <td>238789</td>\n",
              "      <td>6.52</td>\n",
              "      <td>67.0</td>\n",
              "    </tr>\n",
              "  </tbody>\n",
              "</table>\n",
              "</div>"
            ],
            "text/plain": [
              "     Rank                  Title  ... Revenue (Millions) Metascore\n",
              "54     55        The Dark Knight  ...             533.32      82.0\n",
              "80     81              Inception  ...             292.57      74.0\n",
              "117   118                 Dangal  ...              11.15       NaN\n",
              "96     97          Kimi no na wa  ...               4.68      79.0\n",
              "36     37           Interstellar  ...             187.99      74.0\n",
              "249   250       The Intouchables  ...              13.18      57.0\n",
              "476   477    The Lives of Others  ...              11.28      89.0\n",
              "133   134               Whiplash  ...              13.09      88.0\n",
              "99    100           The Departed  ...             132.37      85.0\n",
              "124   125  The Dark Knight Rises  ...             448.13      78.0\n",
              "64     65           The Prestige  ...              53.08      66.0\n",
              "991   992       Taare Zameen Par  ...               1.20      42.0\n",
              "144   145       Django Unchained  ...             162.80      81.0\n",
              "861   862         Koe no katachi  ...                NaN      80.0\n",
              "430   431               3 Idiots  ...               6.52      67.0\n",
              "\n",
              "[15 rows x 12 columns]"
            ]
          },
          "metadata": {
            "tags": []
          },
          "execution_count": 21
        }
      ]
    },
    {
      "cell_type": "markdown",
      "metadata": {
        "id": "Pv67YGNEEkDX"
      },
      "source": [
        "8.Dealing with missing values\n"
      ]
    },
    {
      "cell_type": "code",
      "metadata": {
        "colab": {
          "base_uri": "https://localhost:8080/"
        },
        "id": "a990EOPKEnoP",
        "outputId": "533904b4-9635-46b0-df42-4a8191d3dc8d"
      },
      "source": [
        "movie.isna().any()"
      ],
      "execution_count": 22,
      "outputs": [
        {
          "output_type": "execute_result",
          "data": {
            "text/plain": [
              "Rank                  False\n",
              "Title                 False\n",
              "Genre                 False\n",
              "Description           False\n",
              "Director              False\n",
              "Actors                False\n",
              "Year                  False\n",
              "Runtime (Minutes)     False\n",
              "Rating                False\n",
              "Votes                 False\n",
              "Revenue (Millions)     True\n",
              "Metascore              True\n",
              "dtype: bool"
            ]
          },
          "metadata": {
            "tags": []
          },
          "execution_count": 22
        }
      ]
    },
    {
      "cell_type": "code",
      "metadata": {
        "colab": {
          "base_uri": "https://localhost:8080/"
        },
        "id": "yZPfCKshErup",
        "outputId": "a7651311-51b4-4fac-e67a-98ecad4cd370"
      },
      "source": [
        "print(movie.isna().sum())"
      ],
      "execution_count": 23,
      "outputs": [
        {
          "output_type": "stream",
          "text": [
            "Rank                    0\n",
            "Title                   0\n",
            "Genre                   0\n",
            "Description             0\n",
            "Director                0\n",
            "Actors                  0\n",
            "Year                    0\n",
            "Runtime (Minutes)       0\n",
            "Rating                  0\n",
            "Votes                   0\n",
            "Revenue (Millions)    128\n",
            "Metascore              64\n",
            "dtype: int64\n"
          ],
          "name": "stdout"
        }
      ]
    },
    {
      "cell_type": "markdown",
      "metadata": {
        "id": "RcqJM_sCEtRm"
      },
      "source": [
        "9.Dropping columns and null values"
      ]
    },
    {
      "cell_type": "code",
      "metadata": {
        "colab": {
          "base_uri": "https://localhost:8080/"
        },
        "id": "T4WFwruFEvCH",
        "outputId": "567a293f-cdbe-4df1-bf9f-fbf9055f6995"
      },
      "source": [
        "imdb_cleaned = movie.dropna()\n",
        "imdb_cleaned.info()\n"
      ],
      "execution_count": 24,
      "outputs": [
        {
          "output_type": "stream",
          "text": [
            "<class 'pandas.core.frame.DataFrame'>\n",
            "Int64Index: 838 entries, 0 to 999\n",
            "Data columns (total 12 columns):\n",
            " #   Column              Non-Null Count  Dtype  \n",
            "---  ------              --------------  -----  \n",
            " 0   Rank                838 non-null    int64  \n",
            " 1   Title               838 non-null    object \n",
            " 2   Genre               838 non-null    object \n",
            " 3   Description         838 non-null    object \n",
            " 4   Director            838 non-null    object \n",
            " 5   Actors              838 non-null    object \n",
            " 6   Year                838 non-null    int64  \n",
            " 7   Runtime (Minutes)   838 non-null    int64  \n",
            " 8   Rating              838 non-null    float64\n",
            " 9   Votes               838 non-null    int64  \n",
            " 10  Revenue (Millions)  838 non-null    float64\n",
            " 11  Metascore           838 non-null    float64\n",
            "dtypes: float64(3), int64(4), object(5)\n",
            "memory usage: 85.1+ KB\n"
          ],
          "name": "stdout"
        }
      ]
    },
    {
      "cell_type": "code",
      "metadata": {
        "id": "V9t_DnHCE2eQ"
      },
      "source": [
        ""
      ],
      "execution_count": null,
      "outputs": []
    }
  ]
}